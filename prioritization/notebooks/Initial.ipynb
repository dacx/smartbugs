{
 "cells": [
  {
   "cell_type": "markdown",
   "id": "d1fd9af1",
   "metadata": {},
   "source": [
    "# IMPORTS"
   ]
  },
  {
   "cell_type": "code",
   "execution_count": 1,
   "id": "c7aa85d9",
   "metadata": {
    "scrolled": true
   },
   "outputs": [
    {
     "data": {
      "text/html": [
       "<div>\n",
       "<style scoped>\n",
       "    .dataframe tbody tr th:only-of-type {\n",
       "        vertical-align: middle;\n",
       "    }\n",
       "\n",
       "    .dataframe tbody tr th {\n",
       "        vertical-align: top;\n",
       "    }\n",
       "\n",
       "    .dataframe thead th {\n",
       "        text-align: right;\n",
       "    }\n",
       "</style>\n",
       "<table border=\"1\" class=\"dataframe\">\n",
       "  <thead>\n",
       "    <tr style=\"text-align: right;\">\n",
       "      <th></th>\n",
       "      <th>bug_id</th>\n",
       "      <th>SmartCheck_rule_id</th>\n",
       "      <th>SmartCheck_level</th>\n",
       "      <th>Oyente_rule_id</th>\n",
       "      <th>Oyente_level</th>\n",
       "      <th>Maian_rule_id</th>\n",
       "      <th>Maian_level</th>\n",
       "      <th>Conkas_rule_id</th>\n",
       "      <th>Conkas_level</th>\n",
       "      <th>Manticore_rule_id</th>\n",
       "      <th>...</th>\n",
       "      <th>Mythril_level</th>\n",
       "      <th>Osiris_rule_id</th>\n",
       "      <th>Osiris_level</th>\n",
       "      <th>Solhint_rule_id</th>\n",
       "      <th>Solhint_level</th>\n",
       "      <th>Securify_rule_id</th>\n",
       "      <th>Securify_level</th>\n",
       "      <th>Slither_rule_id</th>\n",
       "      <th>Slither_level</th>\n",
       "      <th>Value</th>\n",
       "    </tr>\n",
       "  </thead>\n",
       "  <tbody>\n",
       "    <tr>\n",
       "      <th>0</th>\n",
       "      <td>dataset/solidiFI/buggy_contracts/Timestamp-Dep...</td>\n",
       "      <td>0</td>\n",
       "      <td>0</td>\n",
       "      <td>0</td>\n",
       "      <td>0</td>\n",
       "      <td>0</td>\n",
       "      <td>0</td>\n",
       "      <td>0</td>\n",
       "      <td>0</td>\n",
       "      <td>0</td>\n",
       "      <td>...</td>\n",
       "      <td>0</td>\n",
       "      <td>0</td>\n",
       "      <td>0</td>\n",
       "      <td>0</td>\n",
       "      <td>0</td>\n",
       "      <td>0</td>\n",
       "      <td>0</td>\n",
       "      <td>Other_11</td>\n",
       "      <td>warning</td>\n",
       "      <td>False</td>\n",
       "    </tr>\n",
       "    <tr>\n",
       "      <th>1</th>\n",
       "      <td>dataset/solidiFI/buggy_contracts/Timestamp-Dep...</td>\n",
       "      <td>0</td>\n",
       "      <td>0</td>\n",
       "      <td>0</td>\n",
       "      <td>0</td>\n",
       "      <td>0</td>\n",
       "      <td>0</td>\n",
       "      <td>0</td>\n",
       "      <td>0</td>\n",
       "      <td>0</td>\n",
       "      <td>...</td>\n",
       "      <td>0</td>\n",
       "      <td>0</td>\n",
       "      <td>0</td>\n",
       "      <td>0</td>\n",
       "      <td>0</td>\n",
       "      <td>0</td>\n",
       "      <td>0</td>\n",
       "      <td>AccessControl_19</td>\n",
       "      <td>error</td>\n",
       "      <td>False</td>\n",
       "    </tr>\n",
       "    <tr>\n",
       "      <th>2</th>\n",
       "      <td>dataset/solidiFI/buggy_contracts/Timestamp-Dep...</td>\n",
       "      <td>0</td>\n",
       "      <td>0</td>\n",
       "      <td>0</td>\n",
       "      <td>0</td>\n",
       "      <td>0</td>\n",
       "      <td>0</td>\n",
       "      <td>0</td>\n",
       "      <td>0</td>\n",
       "      <td>0</td>\n",
       "      <td>...</td>\n",
       "      <td>0</td>\n",
       "      <td>0</td>\n",
       "      <td>0</td>\n",
       "      <td>0</td>\n",
       "      <td>0</td>\n",
       "      <td>0</td>\n",
       "      <td>0</td>\n",
       "      <td>Other_11</td>\n",
       "      <td>warning</td>\n",
       "      <td>False</td>\n",
       "    </tr>\n",
       "    <tr>\n",
       "      <th>3</th>\n",
       "      <td>dataset/solidiFI/buggy_contracts/Timestamp-Dep...</td>\n",
       "      <td>0</td>\n",
       "      <td>0</td>\n",
       "      <td>0</td>\n",
       "      <td>0</td>\n",
       "      <td>0</td>\n",
       "      <td>0</td>\n",
       "      <td>0</td>\n",
       "      <td>0</td>\n",
       "      <td>0</td>\n",
       "      <td>...</td>\n",
       "      <td>0</td>\n",
       "      <td>0</td>\n",
       "      <td>0</td>\n",
       "      <td>0</td>\n",
       "      <td>0</td>\n",
       "      <td>0</td>\n",
       "      <td>0</td>\n",
       "      <td>TimeManipulation_4</td>\n",
       "      <td>warning</td>\n",
       "      <td>True</td>\n",
       "    </tr>\n",
       "    <tr>\n",
       "      <th>4</th>\n",
       "      <td>dataset/solidiFI/buggy_contracts/tx.origin/bug...</td>\n",
       "      <td>0</td>\n",
       "      <td>0</td>\n",
       "      <td>0</td>\n",
       "      <td>0</td>\n",
       "      <td>0</td>\n",
       "      <td>0</td>\n",
       "      <td>0</td>\n",
       "      <td>0</td>\n",
       "      <td>0</td>\n",
       "      <td>...</td>\n",
       "      <td>0</td>\n",
       "      <td>0</td>\n",
       "      <td>0</td>\n",
       "      <td>0</td>\n",
       "      <td>0</td>\n",
       "      <td>0</td>\n",
       "      <td>0</td>\n",
       "      <td>Ignore_11</td>\n",
       "      <td>note</td>\n",
       "      <td>False</td>\n",
       "    </tr>\n",
       "    <tr>\n",
       "      <th>...</th>\n",
       "      <td>...</td>\n",
       "      <td>...</td>\n",
       "      <td>...</td>\n",
       "      <td>...</td>\n",
       "      <td>...</td>\n",
       "      <td>...</td>\n",
       "      <td>...</td>\n",
       "      <td>...</td>\n",
       "      <td>...</td>\n",
       "      <td>...</td>\n",
       "      <td>...</td>\n",
       "      <td>...</td>\n",
       "      <td>...</td>\n",
       "      <td>...</td>\n",
       "      <td>...</td>\n",
       "      <td>...</td>\n",
       "      <td>...</td>\n",
       "      <td>...</td>\n",
       "      <td>...</td>\n",
       "      <td>...</td>\n",
       "      <td>...</td>\n",
       "    </tr>\n",
       "    <tr>\n",
       "      <th>77010</th>\n",
       "      <td>dataset/arithmetic/integer_overflow_minimal.so...</td>\n",
       "      <td>0</td>\n",
       "      <td>0</td>\n",
       "      <td>0</td>\n",
       "      <td>0</td>\n",
       "      <td>0</td>\n",
       "      <td>0</td>\n",
       "      <td>0</td>\n",
       "      <td>0</td>\n",
       "      <td>0</td>\n",
       "      <td>...</td>\n",
       "      <td>0</td>\n",
       "      <td>0</td>\n",
       "      <td>0</td>\n",
       "      <td>0</td>\n",
       "      <td>0</td>\n",
       "      <td>0</td>\n",
       "      <td>0</td>\n",
       "      <td>0</td>\n",
       "      <td>0</td>\n",
       "      <td>True</td>\n",
       "    </tr>\n",
       "    <tr>\n",
       "      <th>77011</th>\n",
       "      <td>dataset/arithmetic/integer_overflow_1.sol:14</td>\n",
       "      <td>0</td>\n",
       "      <td>0</td>\n",
       "      <td>0</td>\n",
       "      <td>0</td>\n",
       "      <td>0</td>\n",
       "      <td>0</td>\n",
       "      <td>0</td>\n",
       "      <td>0</td>\n",
       "      <td>0</td>\n",
       "      <td>...</td>\n",
       "      <td>0</td>\n",
       "      <td>0</td>\n",
       "      <td>0</td>\n",
       "      <td>0</td>\n",
       "      <td>0</td>\n",
       "      <td>0</td>\n",
       "      <td>0</td>\n",
       "      <td>0</td>\n",
       "      <td>0</td>\n",
       "      <td>True</td>\n",
       "    </tr>\n",
       "    <tr>\n",
       "      <th>77012</th>\n",
       "      <td>dataset/arithmetic/overflow_simple_add.sol:14</td>\n",
       "      <td>0</td>\n",
       "      <td>0</td>\n",
       "      <td>0</td>\n",
       "      <td>0</td>\n",
       "      <td>0</td>\n",
       "      <td>0</td>\n",
       "      <td>0</td>\n",
       "      <td>0</td>\n",
       "      <td>0</td>\n",
       "      <td>...</td>\n",
       "      <td>0</td>\n",
       "      <td>0</td>\n",
       "      <td>0</td>\n",
       "      <td>0</td>\n",
       "      <td>0</td>\n",
       "      <td>0</td>\n",
       "      <td>0</td>\n",
       "      <td>0</td>\n",
       "      <td>0</td>\n",
       "      <td>True</td>\n",
       "    </tr>\n",
       "    <tr>\n",
       "      <th>77013</th>\n",
       "      <td>dataset/arithmetic/integer_overflow_mapping_sy...</td>\n",
       "      <td>0</td>\n",
       "      <td>0</td>\n",
       "      <td>0</td>\n",
       "      <td>0</td>\n",
       "      <td>0</td>\n",
       "      <td>0</td>\n",
       "      <td>0</td>\n",
       "      <td>0</td>\n",
       "      <td>0</td>\n",
       "      <td>...</td>\n",
       "      <td>0</td>\n",
       "      <td>0</td>\n",
       "      <td>0</td>\n",
       "      <td>0</td>\n",
       "      <td>0</td>\n",
       "      <td>0</td>\n",
       "      <td>0</td>\n",
       "      <td>0</td>\n",
       "      <td>0</td>\n",
       "      <td>True</td>\n",
       "    </tr>\n",
       "    <tr>\n",
       "      <th>77014</th>\n",
       "      <td>dataset/arithmetic/BECToken.sol:264</td>\n",
       "      <td>0</td>\n",
       "      <td>0</td>\n",
       "      <td>0</td>\n",
       "      <td>0</td>\n",
       "      <td>0</td>\n",
       "      <td>0</td>\n",
       "      <td>0</td>\n",
       "      <td>0</td>\n",
       "      <td>0</td>\n",
       "      <td>...</td>\n",
       "      <td>0</td>\n",
       "      <td>0</td>\n",
       "      <td>0</td>\n",
       "      <td>0</td>\n",
       "      <td>0</td>\n",
       "      <td>0</td>\n",
       "      <td>0</td>\n",
       "      <td>0</td>\n",
       "      <td>0</td>\n",
       "      <td>True</td>\n",
       "    </tr>\n",
       "  </tbody>\n",
       "</table>\n",
       "<p>77015 rows × 24 columns</p>\n",
       "</div>"
      ],
      "text/plain": [
       "                                                  bug_id SmartCheck_rule_id  \\\n",
       "0      dataset/solidiFI/buggy_contracts/Timestamp-Dep...                  0   \n",
       "1      dataset/solidiFI/buggy_contracts/Timestamp-Dep...                  0   \n",
       "2      dataset/solidiFI/buggy_contracts/Timestamp-Dep...                  0   \n",
       "3      dataset/solidiFI/buggy_contracts/Timestamp-Dep...                  0   \n",
       "4      dataset/solidiFI/buggy_contracts/tx.origin/bug...                  0   \n",
       "...                                                  ...                ...   \n",
       "77010  dataset/arithmetic/integer_overflow_minimal.so...                  0   \n",
       "77011       dataset/arithmetic/integer_overflow_1.sol:14                  0   \n",
       "77012      dataset/arithmetic/overflow_simple_add.sol:14                  0   \n",
       "77013  dataset/arithmetic/integer_overflow_mapping_sy...                  0   \n",
       "77014                dataset/arithmetic/BECToken.sol:264                  0   \n",
       "\n",
       "      SmartCheck_level Oyente_rule_id Oyente_level  Maian_rule_id  \\\n",
       "0                    0              0            0              0   \n",
       "1                    0              0            0              0   \n",
       "2                    0              0            0              0   \n",
       "3                    0              0            0              0   \n",
       "4                    0              0            0              0   \n",
       "...                ...            ...          ...            ...   \n",
       "77010                0              0            0              0   \n",
       "77011                0              0            0              0   \n",
       "77012                0              0            0              0   \n",
       "77013                0              0            0              0   \n",
       "77014                0              0            0              0   \n",
       "\n",
       "       Maian_level  Conkas_rule_id  Conkas_level Manticore_rule_id  ...  \\\n",
       "0                0               0             0                 0  ...   \n",
       "1                0               0             0                 0  ...   \n",
       "2                0               0             0                 0  ...   \n",
       "3                0               0             0                 0  ...   \n",
       "4                0               0             0                 0  ...   \n",
       "...            ...             ...           ...               ...  ...   \n",
       "77010            0               0             0                 0  ...   \n",
       "77011            0               0             0                 0  ...   \n",
       "77012            0               0             0                 0  ...   \n",
       "77013            0               0             0                 0  ...   \n",
       "77014            0               0             0                 0  ...   \n",
       "\n",
       "      Mythril_level Osiris_rule_id Osiris_level Solhint_rule_id Solhint_level  \\\n",
       "0                 0              0            0               0             0   \n",
       "1                 0              0            0               0             0   \n",
       "2                 0              0            0               0             0   \n",
       "3                 0              0            0               0             0   \n",
       "4                 0              0            0               0             0   \n",
       "...             ...            ...          ...             ...           ...   \n",
       "77010             0              0            0               0             0   \n",
       "77011             0              0            0               0             0   \n",
       "77012             0              0            0               0             0   \n",
       "77013             0              0            0               0             0   \n",
       "77014             0              0            0               0             0   \n",
       "\n",
       "      Securify_rule_id Securify_level     Slither_rule_id Slither_level  Value  \n",
       "0                    0              0            Other_11       warning  False  \n",
       "1                    0              0    AccessControl_19         error  False  \n",
       "2                    0              0            Other_11       warning  False  \n",
       "3                    0              0  TimeManipulation_4       warning   True  \n",
       "4                    0              0           Ignore_11          note  False  \n",
       "...                ...            ...                 ...           ...    ...  \n",
       "77010                0              0                   0             0   True  \n",
       "77011                0              0                   0             0   True  \n",
       "77012                0              0                   0             0   True  \n",
       "77013                0              0                   0             0   True  \n",
       "77014                0              0                   0             0   True  \n",
       "\n",
       "[77015 rows x 24 columns]"
      ]
     },
     "execution_count": 1,
     "metadata": {},
     "output_type": "execute_result"
    }
   ],
   "source": [
    "from IPython.core.interactiveshell import InteractiveShell\n",
    "InteractiveShell.ast_node_interactivity = \"all\"\n",
    "\n",
    "import pandas as pd\n",
    "data = pd.read_csv('final_solidifi_category.csv')\n",
    "data"
   ]
  },
  {
   "cell_type": "markdown",
   "id": "c69b3f01",
   "metadata": {},
   "source": [
    "# Data Division"
   ]
  },
  {
   "cell_type": "code",
   "execution_count": 2,
   "id": "bdf32799",
   "metadata": {},
   "outputs": [
    {
     "data": {
      "text/plain": [
       "0                      64122\n",
       "Ignore_38               6619\n",
       "Ignore_31                884\n",
       "TimeManipulation_5       744\n",
       "Ignore_29                631\n",
       "Ignore_28                529\n",
       "UncheckedLowCalls_7      513\n",
       "UncheckedLowCalls_8      498\n",
       "Reentrancy_12            409\n",
       "Ignore_19                282\n",
       "Arithmetic_15            267\n",
       "Other_19                 212\n",
       "Ignore_36                199\n",
       "Ignore_32                174\n",
       "Ignore_25                145\n",
       "DenialService_4          128\n",
       "Ignore_21                119\n",
       "Ignore_22                114\n",
       "AccessControl_23         106\n",
       "Ignore_27                 63\n",
       "Arithmetic_14             58\n",
       "Ignore_35                 48\n",
       "Ignore_30                 35\n",
       "Arithmetic_13             33\n",
       "Ignore_37                 28\n",
       "Ignore_33                 19\n",
       "Other_17                  12\n",
       "DenialService_5           11\n",
       "Ignore_34                  8\n",
       "Arithmetic_16              3\n",
       "Other_16                   1\n",
       "Other_18                   1\n",
       "Name: SmartCheck_rule_id, dtype: int64"
      ]
     },
     "execution_count": 2,
     "metadata": {},
     "output_type": "execute_result"
    },
    {
     "data": {
      "text/plain": [
       "0                     76598\n",
       "Arithmetic_11           225\n",
       "DenialService_2          68\n",
       "Arithmetic_12            60\n",
       "Reentrancy_6             54\n",
       "TimeManipulation_3       10\n",
       "Name: Oyente_rule_id, dtype: int64"
      ]
     },
     "execution_count": 2,
     "metadata": {},
     "output_type": "execute_result"
    },
    {
     "data": {
      "text/plain": [
       "0    77015\n",
       "Name: Maian_rule_id, dtype: int64"
      ]
     },
     "execution_count": 2,
     "metadata": {},
     "output_type": "execute_result"
    },
    {
     "data": {
      "text/plain": [
       "0    77015\n",
       "Name: Conkas_rule_id, dtype: int64"
      ]
     },
     "execution_count": 2,
     "metadata": {},
     "output_type": "execute_result"
    },
    {
     "data": {
      "text/plain": [
       "0                      76751\n",
       "Other_2                   87\n",
       "TimeManipulation_1        42\n",
       "Other_4                   32\n",
       "AccessControl_7           21\n",
       "AccessControl_5           16\n",
       "UncheckedLowCalls_1       14\n",
       "Arithmetic_1              11\n",
       "Reentrancy_2              10\n",
       "Arithmetic_3               9\n",
       "AccessControl_10           8\n",
       "Other_6                    6\n",
       "Arithmetic_2               3\n",
       "Reentrancy_1               2\n",
       "AccessControl_9            2\n",
       "Other_5                    1\n",
       "Name: Manticore_rule_id, dtype: int64"
      ]
     },
     "execution_count": 2,
     "metadata": {},
     "output_type": "execute_result"
    },
    {
     "data": {
      "text/plain": [
       "0                76982\n",
       "Reentrancy_13       19\n",
       "Other_21            10\n",
       "Ignore_44            2\n",
       "Other_20             1\n",
       "Ignore_42            1\n",
       "Name: HoneyBadger_rule_id, dtype: int64"
      ]
     },
     "execution_count": 2,
     "metadata": {},
     "output_type": "execute_result"
    },
    {
     "data": {
      "text/plain": [
       "0                      76561\n",
       "Reentrancy_3             114\n",
       "UncheckedLowCalls_3       90\n",
       "FrontRunning_1            55\n",
       "Ignore_1                  53\n",
       "Other_9                   39\n",
       "AccessControl_13          36\n",
       "Reentrancy_4              19\n",
       "Arithmetic_5              18\n",
       "Other_7                   17\n",
       "AccessControl_15           7\n",
       "Other_8                    5\n",
       "AccessControl_14           1\n",
       "Name: Mythril_rule_id, dtype: int64"
      ]
     },
     "execution_count": 2,
     "metadata": {},
     "output_type": "execute_result"
    },
    {
     "data": {
      "text/plain": [
       "0                     76608\n",
       "Arithmetic_7            115\n",
       "Reentrancy_5             82\n",
       "Arithmetic_10            72\n",
       "Ignore_2                 67\n",
       "DenialService_1          44\n",
       "Arithmetic_9             21\n",
       "TimeManipulation_2        6\n",
       "Name: Osiris_rule_id, dtype: int64"
      ]
     },
     "execution_count": 2,
     "metadata": {},
     "output_type": "execute_result"
    },
    {
     "data": {
      "text/plain": [
       "Ignore_40    46273\n",
       "0            30133\n",
       "Ignore_41      609\n",
       "Name: Solhint_rule_id, dtype: int64"
      ]
     },
     "execution_count": 2,
     "metadata": {},
     "output_type": "execute_result"
    },
    {
     "data": {
      "text/plain": [
       "0                      75273\n",
       "Ignore_3                 518\n",
       "AccessControl_17         359\n",
       "UncheckedLowCalls_4      359\n",
       "Reentrancy_7             253\n",
       "FrontRunning_2           253\n",
       "Name: Securify_rule_id, dtype: int64"
      ]
     },
     "execution_count": 2,
     "metadata": {},
     "output_type": "execute_result"
    },
    {
     "data": {
      "text/plain": [
       "0                      48917\n",
       "Ignore_12              12952\n",
       "AccessControl_19        3979\n",
       "Ignore_11               2116\n",
       "AccessControl_22        1766\n",
       "Other_14                1197\n",
       "TimeManipulation_4      1161\n",
       "Other_11                1049\n",
       "Reentrancy_10            917\n",
       "Other_13                 901\n",
       "UncheckedLowCalls_5      824\n",
       "Ignore_17                338\n",
       "Ignore_18                270\n",
       "Ignore_6                 262\n",
       "Ignore_8                  98\n",
       "Reentrancy_9              60\n",
       "Ignore_15                 54\n",
       "DenialService_3           40\n",
       "Reentrancy_11             38\n",
       "Ignore_16                 24\n",
       "Ignore_9                  14\n",
       "Ignore_5                  14\n",
       "Other_12                  12\n",
       "AccessControl_20           6\n",
       "UncheckedLowCalls_6        4\n",
       "Ignore_14                  1\n",
       "AccessControl_21           1\n",
       "Name: Slither_rule_id, dtype: int64"
      ]
     },
     "execution_count": 2,
     "metadata": {},
     "output_type": "execute_result"
    }
   ],
   "source": [
    "x = data.drop(columns=['Value', 'bug_id'])\n",
    "x[\"SmartCheck_rule_id\"].value_counts()\n",
    "x[\"Oyente_rule_id\"].value_counts()\n",
    "x[\"Maian_rule_id\"].value_counts()\n",
    "x[\"Conkas_rule_id\"].value_counts()\n",
    "x[\"Manticore_rule_id\"].value_counts()\n",
    "x[\"HoneyBadger_rule_id\"].value_counts()\n",
    "x[\"Mythril_rule_id\"].value_counts()\n",
    "x[\"Osiris_rule_id\"].value_counts()\n",
    "x[\"Solhint_rule_id\"].value_counts()\n",
    "x[\"Securify_rule_id\"].value_counts()\n",
    "x[\"Slither_rule_id\"].value_counts()"
   ]
  },
  {
   "cell_type": "code",
   "execution_count": 3,
   "id": "d70f4253",
   "metadata": {},
   "outputs": [
    {
     "data": {
      "text/plain": [
       "False    64856\n",
       "True     12159\n",
       "Name: Value, dtype: int64"
      ]
     },
     "execution_count": 3,
     "metadata": {},
     "output_type": "execute_result"
    }
   ],
   "source": [
    "y = data['Value']\n",
    "y.value_counts()"
   ]
  },
  {
   "cell_type": "markdown",
   "id": "78da939a",
   "metadata": {},
   "source": [
    "# Label Encoding"
   ]
  },
  {
   "cell_type": "code",
   "execution_count": 4,
   "id": "54474503",
   "metadata": {
    "scrolled": false
   },
   "outputs": [
    {
     "data": {
      "text/plain": [
       "LabelEncoder()"
      ]
     },
     "execution_count": 4,
     "metadata": {},
     "output_type": "execute_result"
    },
    {
     "data": {
      "text/plain": [
       "LabelEncoder()"
      ]
     },
     "execution_count": 4,
     "metadata": {},
     "output_type": "execute_result"
    },
    {
     "data": {
      "text/plain": [
       "LabelEncoder()"
      ]
     },
     "execution_count": 4,
     "metadata": {},
     "output_type": "execute_result"
    },
    {
     "data": {
      "text/plain": [
       "LabelEncoder()"
      ]
     },
     "execution_count": 4,
     "metadata": {},
     "output_type": "execute_result"
    },
    {
     "data": {
      "text/plain": [
       "LabelEncoder()"
      ]
     },
     "execution_count": 4,
     "metadata": {},
     "output_type": "execute_result"
    },
    {
     "data": {
      "text/plain": [
       "LabelEncoder()"
      ]
     },
     "execution_count": 4,
     "metadata": {},
     "output_type": "execute_result"
    },
    {
     "data": {
      "text/plain": [
       "LabelEncoder()"
      ]
     },
     "execution_count": 4,
     "metadata": {},
     "output_type": "execute_result"
    },
    {
     "data": {
      "text/plain": [
       "LabelEncoder()"
      ]
     },
     "execution_count": 4,
     "metadata": {},
     "output_type": "execute_result"
    },
    {
     "data": {
      "text/plain": [
       "LabelEncoder()"
      ]
     },
     "execution_count": 4,
     "metadata": {},
     "output_type": "execute_result"
    },
    {
     "data": {
      "text/plain": [
       "LabelEncoder()"
      ]
     },
     "execution_count": 4,
     "metadata": {},
     "output_type": "execute_result"
    },
    {
     "data": {
      "text/plain": [
       "LabelEncoder()"
      ]
     },
     "execution_count": 4,
     "metadata": {},
     "output_type": "execute_result"
    },
    {
     "data": {
      "text/plain": [
       "LabelEncoder()"
      ]
     },
     "execution_count": 4,
     "metadata": {},
     "output_type": "execute_result"
    },
    {
     "data": {
      "text/plain": [
       "LabelEncoder()"
      ]
     },
     "execution_count": 4,
     "metadata": {},
     "output_type": "execute_result"
    },
    {
     "data": {
      "text/plain": [
       "LabelEncoder()"
      ]
     },
     "execution_count": 4,
     "metadata": {},
     "output_type": "execute_result"
    },
    {
     "data": {
      "text/plain": [
       "LabelEncoder()"
      ]
     },
     "execution_count": 4,
     "metadata": {},
     "output_type": "execute_result"
    },
    {
     "data": {
      "text/plain": [
       "LabelEncoder()"
      ]
     },
     "execution_count": 4,
     "metadata": {},
     "output_type": "execute_result"
    },
    {
     "data": {
      "text/plain": [
       "LabelEncoder()"
      ]
     },
     "execution_count": 4,
     "metadata": {},
     "output_type": "execute_result"
    },
    {
     "data": {
      "text/plain": [
       "LabelEncoder()"
      ]
     },
     "execution_count": 4,
     "metadata": {},
     "output_type": "execute_result"
    },
    {
     "data": {
      "text/plain": [
       "LabelEncoder()"
      ]
     },
     "execution_count": 4,
     "metadata": {},
     "output_type": "execute_result"
    },
    {
     "data": {
      "text/plain": [
       "LabelEncoder()"
      ]
     },
     "execution_count": 4,
     "metadata": {},
     "output_type": "execute_result"
    },
    {
     "data": {
      "text/plain": [
       "LabelEncoder()"
      ]
     },
     "execution_count": 4,
     "metadata": {},
     "output_type": "execute_result"
    },
    {
     "data": {
      "text/plain": [
       "LabelEncoder()"
      ]
     },
     "execution_count": 4,
     "metadata": {},
     "output_type": "execute_result"
    },
    {
     "data": {
      "text/html": [
       "<div>\n",
       "<style scoped>\n",
       "    .dataframe tbody tr th:only-of-type {\n",
       "        vertical-align: middle;\n",
       "    }\n",
       "\n",
       "    .dataframe tbody tr th {\n",
       "        vertical-align: top;\n",
       "    }\n",
       "\n",
       "    .dataframe thead th {\n",
       "        text-align: right;\n",
       "    }\n",
       "</style>\n",
       "<table border=\"1\" class=\"dataframe\">\n",
       "  <thead>\n",
       "    <tr style=\"text-align: right;\">\n",
       "      <th></th>\n",
       "      <th>SmartCheck_rule_id</th>\n",
       "      <th>SmartCheck_level</th>\n",
       "      <th>Oyente_rule_id</th>\n",
       "      <th>Oyente_level</th>\n",
       "      <th>Maian_rule_id</th>\n",
       "      <th>Maian_level</th>\n",
       "      <th>Conkas_rule_id</th>\n",
       "      <th>Conkas_level</th>\n",
       "      <th>Manticore_rule_id</th>\n",
       "      <th>Manticore_level</th>\n",
       "      <th>...</th>\n",
       "      <th>Mythril_rule_id</th>\n",
       "      <th>Mythril_level</th>\n",
       "      <th>Osiris_rule_id</th>\n",
       "      <th>Osiris_level</th>\n",
       "      <th>Solhint_rule_id</th>\n",
       "      <th>Solhint_level</th>\n",
       "      <th>Securify_rule_id</th>\n",
       "      <th>Securify_level</th>\n",
       "      <th>Slither_rule_id</th>\n",
       "      <th>Slither_level</th>\n",
       "    </tr>\n",
       "  </thead>\n",
       "  <tbody>\n",
       "    <tr>\n",
       "      <th>0</th>\n",
       "      <td>0</td>\n",
       "      <td>0</td>\n",
       "      <td>0</td>\n",
       "      <td>0</td>\n",
       "      <td>0</td>\n",
       "      <td>0</td>\n",
       "      <td>0</td>\n",
       "      <td>0</td>\n",
       "      <td>0</td>\n",
       "      <td>0</td>\n",
       "      <td>...</td>\n",
       "      <td>0</td>\n",
       "      <td>0</td>\n",
       "      <td>0</td>\n",
       "      <td>0</td>\n",
       "      <td>0</td>\n",
       "      <td>0</td>\n",
       "      <td>0</td>\n",
       "      <td>0</td>\n",
       "      <td>17</td>\n",
       "      <td>3</td>\n",
       "    </tr>\n",
       "    <tr>\n",
       "      <th>1</th>\n",
       "      <td>0</td>\n",
       "      <td>0</td>\n",
       "      <td>0</td>\n",
       "      <td>0</td>\n",
       "      <td>0</td>\n",
       "      <td>0</td>\n",
       "      <td>0</td>\n",
       "      <td>0</td>\n",
       "      <td>0</td>\n",
       "      <td>0</td>\n",
       "      <td>...</td>\n",
       "      <td>0</td>\n",
       "      <td>0</td>\n",
       "      <td>0</td>\n",
       "      <td>0</td>\n",
       "      <td>0</td>\n",
       "      <td>0</td>\n",
       "      <td>0</td>\n",
       "      <td>0</td>\n",
       "      <td>1</td>\n",
       "      <td>1</td>\n",
       "    </tr>\n",
       "    <tr>\n",
       "      <th>2</th>\n",
       "      <td>0</td>\n",
       "      <td>0</td>\n",
       "      <td>0</td>\n",
       "      <td>0</td>\n",
       "      <td>0</td>\n",
       "      <td>0</td>\n",
       "      <td>0</td>\n",
       "      <td>0</td>\n",
       "      <td>0</td>\n",
       "      <td>0</td>\n",
       "      <td>...</td>\n",
       "      <td>0</td>\n",
       "      <td>0</td>\n",
       "      <td>0</td>\n",
       "      <td>0</td>\n",
       "      <td>0</td>\n",
       "      <td>0</td>\n",
       "      <td>0</td>\n",
       "      <td>0</td>\n",
       "      <td>17</td>\n",
       "      <td>3</td>\n",
       "    </tr>\n",
       "    <tr>\n",
       "      <th>3</th>\n",
       "      <td>0</td>\n",
       "      <td>0</td>\n",
       "      <td>0</td>\n",
       "      <td>0</td>\n",
       "      <td>0</td>\n",
       "      <td>0</td>\n",
       "      <td>0</td>\n",
       "      <td>0</td>\n",
       "      <td>0</td>\n",
       "      <td>0</td>\n",
       "      <td>...</td>\n",
       "      <td>0</td>\n",
       "      <td>0</td>\n",
       "      <td>0</td>\n",
       "      <td>0</td>\n",
       "      <td>0</td>\n",
       "      <td>0</td>\n",
       "      <td>0</td>\n",
       "      <td>0</td>\n",
       "      <td>24</td>\n",
       "      <td>3</td>\n",
       "    </tr>\n",
       "    <tr>\n",
       "      <th>4</th>\n",
       "      <td>0</td>\n",
       "      <td>0</td>\n",
       "      <td>0</td>\n",
       "      <td>0</td>\n",
       "      <td>0</td>\n",
       "      <td>0</td>\n",
       "      <td>0</td>\n",
       "      <td>0</td>\n",
       "      <td>0</td>\n",
       "      <td>0</td>\n",
       "      <td>...</td>\n",
       "      <td>0</td>\n",
       "      <td>0</td>\n",
       "      <td>0</td>\n",
       "      <td>0</td>\n",
       "      <td>0</td>\n",
       "      <td>0</td>\n",
       "      <td>0</td>\n",
       "      <td>0</td>\n",
       "      <td>6</td>\n",
       "      <td>2</td>\n",
       "    </tr>\n",
       "    <tr>\n",
       "      <th>...</th>\n",
       "      <td>...</td>\n",
       "      <td>...</td>\n",
       "      <td>...</td>\n",
       "      <td>...</td>\n",
       "      <td>...</td>\n",
       "      <td>...</td>\n",
       "      <td>...</td>\n",
       "      <td>...</td>\n",
       "      <td>...</td>\n",
       "      <td>...</td>\n",
       "      <td>...</td>\n",
       "      <td>...</td>\n",
       "      <td>...</td>\n",
       "      <td>...</td>\n",
       "      <td>...</td>\n",
       "      <td>...</td>\n",
       "      <td>...</td>\n",
       "      <td>...</td>\n",
       "      <td>...</td>\n",
       "      <td>...</td>\n",
       "      <td>...</td>\n",
       "    </tr>\n",
       "    <tr>\n",
       "      <th>77010</th>\n",
       "      <td>0</td>\n",
       "      <td>0</td>\n",
       "      <td>0</td>\n",
       "      <td>0</td>\n",
       "      <td>0</td>\n",
       "      <td>0</td>\n",
       "      <td>0</td>\n",
       "      <td>0</td>\n",
       "      <td>0</td>\n",
       "      <td>0</td>\n",
       "      <td>...</td>\n",
       "      <td>0</td>\n",
       "      <td>0</td>\n",
       "      <td>0</td>\n",
       "      <td>0</td>\n",
       "      <td>0</td>\n",
       "      <td>0</td>\n",
       "      <td>0</td>\n",
       "      <td>0</td>\n",
       "      <td>0</td>\n",
       "      <td>0</td>\n",
       "    </tr>\n",
       "    <tr>\n",
       "      <th>77011</th>\n",
       "      <td>0</td>\n",
       "      <td>0</td>\n",
       "      <td>0</td>\n",
       "      <td>0</td>\n",
       "      <td>0</td>\n",
       "      <td>0</td>\n",
       "      <td>0</td>\n",
       "      <td>0</td>\n",
       "      <td>0</td>\n",
       "      <td>0</td>\n",
       "      <td>...</td>\n",
       "      <td>0</td>\n",
       "      <td>0</td>\n",
       "      <td>0</td>\n",
       "      <td>0</td>\n",
       "      <td>0</td>\n",
       "      <td>0</td>\n",
       "      <td>0</td>\n",
       "      <td>0</td>\n",
       "      <td>0</td>\n",
       "      <td>0</td>\n",
       "    </tr>\n",
       "    <tr>\n",
       "      <th>77012</th>\n",
       "      <td>0</td>\n",
       "      <td>0</td>\n",
       "      <td>0</td>\n",
       "      <td>0</td>\n",
       "      <td>0</td>\n",
       "      <td>0</td>\n",
       "      <td>0</td>\n",
       "      <td>0</td>\n",
       "      <td>0</td>\n",
       "      <td>0</td>\n",
       "      <td>...</td>\n",
       "      <td>0</td>\n",
       "      <td>0</td>\n",
       "      <td>0</td>\n",
       "      <td>0</td>\n",
       "      <td>0</td>\n",
       "      <td>0</td>\n",
       "      <td>0</td>\n",
       "      <td>0</td>\n",
       "      <td>0</td>\n",
       "      <td>0</td>\n",
       "    </tr>\n",
       "    <tr>\n",
       "      <th>77013</th>\n",
       "      <td>0</td>\n",
       "      <td>0</td>\n",
       "      <td>0</td>\n",
       "      <td>0</td>\n",
       "      <td>0</td>\n",
       "      <td>0</td>\n",
       "      <td>0</td>\n",
       "      <td>0</td>\n",
       "      <td>0</td>\n",
       "      <td>0</td>\n",
       "      <td>...</td>\n",
       "      <td>0</td>\n",
       "      <td>0</td>\n",
       "      <td>0</td>\n",
       "      <td>0</td>\n",
       "      <td>0</td>\n",
       "      <td>0</td>\n",
       "      <td>0</td>\n",
       "      <td>0</td>\n",
       "      <td>0</td>\n",
       "      <td>0</td>\n",
       "    </tr>\n",
       "    <tr>\n",
       "      <th>77014</th>\n",
       "      <td>0</td>\n",
       "      <td>0</td>\n",
       "      <td>0</td>\n",
       "      <td>0</td>\n",
       "      <td>0</td>\n",
       "      <td>0</td>\n",
       "      <td>0</td>\n",
       "      <td>0</td>\n",
       "      <td>0</td>\n",
       "      <td>0</td>\n",
       "      <td>...</td>\n",
       "      <td>0</td>\n",
       "      <td>0</td>\n",
       "      <td>0</td>\n",
       "      <td>0</td>\n",
       "      <td>0</td>\n",
       "      <td>0</td>\n",
       "      <td>0</td>\n",
       "      <td>0</td>\n",
       "      <td>0</td>\n",
       "      <td>0</td>\n",
       "    </tr>\n",
       "  </tbody>\n",
       "</table>\n",
       "<p>77015 rows × 22 columns</p>\n",
       "</div>"
      ],
      "text/plain": [
       "       SmartCheck_rule_id  SmartCheck_level  Oyente_rule_id  Oyente_level  \\\n",
       "0                       0                 0               0             0   \n",
       "1                       0                 0               0             0   \n",
       "2                       0                 0               0             0   \n",
       "3                       0                 0               0             0   \n",
       "4                       0                 0               0             0   \n",
       "...                   ...               ...             ...           ...   \n",
       "77010                   0                 0               0             0   \n",
       "77011                   0                 0               0             0   \n",
       "77012                   0                 0               0             0   \n",
       "77013                   0                 0               0             0   \n",
       "77014                   0                 0               0             0   \n",
       "\n",
       "       Maian_rule_id  Maian_level  Conkas_rule_id  Conkas_level  \\\n",
       "0                  0            0               0             0   \n",
       "1                  0            0               0             0   \n",
       "2                  0            0               0             0   \n",
       "3                  0            0               0             0   \n",
       "4                  0            0               0             0   \n",
       "...              ...          ...             ...           ...   \n",
       "77010              0            0               0             0   \n",
       "77011              0            0               0             0   \n",
       "77012              0            0               0             0   \n",
       "77013              0            0               0             0   \n",
       "77014              0            0               0             0   \n",
       "\n",
       "       Manticore_rule_id  Manticore_level  ...  Mythril_rule_id  \\\n",
       "0                      0                0  ...                0   \n",
       "1                      0                0  ...                0   \n",
       "2                      0                0  ...                0   \n",
       "3                      0                0  ...                0   \n",
       "4                      0                0  ...                0   \n",
       "...                  ...              ...  ...              ...   \n",
       "77010                  0                0  ...                0   \n",
       "77011                  0                0  ...                0   \n",
       "77012                  0                0  ...                0   \n",
       "77013                  0                0  ...                0   \n",
       "77014                  0                0  ...                0   \n",
       "\n",
       "       Mythril_level  Osiris_rule_id  Osiris_level  Solhint_rule_id  \\\n",
       "0                  0               0             0                0   \n",
       "1                  0               0             0                0   \n",
       "2                  0               0             0                0   \n",
       "3                  0               0             0                0   \n",
       "4                  0               0             0                0   \n",
       "...              ...             ...           ...              ...   \n",
       "77010              0               0             0                0   \n",
       "77011              0               0             0                0   \n",
       "77012              0               0             0                0   \n",
       "77013              0               0             0                0   \n",
       "77014              0               0             0                0   \n",
       "\n",
       "       Solhint_level  Securify_rule_id  Securify_level  Slither_rule_id  \\\n",
       "0                  0                 0               0               17   \n",
       "1                  0                 0               0                1   \n",
       "2                  0                 0               0               17   \n",
       "3                  0                 0               0               24   \n",
       "4                  0                 0               0                6   \n",
       "...              ...               ...             ...              ...   \n",
       "77010              0                 0               0                0   \n",
       "77011              0                 0               0                0   \n",
       "77012              0                 0               0                0   \n",
       "77013              0                 0               0                0   \n",
       "77014              0                 0               0                0   \n",
       "\n",
       "       Slither_level  \n",
       "0                  3  \n",
       "1                  1  \n",
       "2                  3  \n",
       "3                  3  \n",
       "4                  2  \n",
       "...              ...  \n",
       "77010              0  \n",
       "77011              0  \n",
       "77012              0  \n",
       "77013              0  \n",
       "77014              0  \n",
       "\n",
       "[77015 rows x 22 columns]"
      ]
     },
     "execution_count": 4,
     "metadata": {},
     "output_type": "execute_result"
    }
   ],
   "source": [
    "from sklearn import preprocessing\n",
    "# Prepare encoders\n",
    "l_solhint = preprocessing.LabelEncoder()\n",
    "l_oyente = preprocessing.LabelEncoder()\n",
    "l_honeybadger = preprocessing.LabelEncoder()\n",
    "l_osiris = preprocessing.LabelEncoder()\n",
    "l_securify = preprocessing.LabelEncoder()\n",
    "l_manticore = preprocessing.LabelEncoder()\n",
    "l_smartcheck = preprocessing.LabelEncoder()\n",
    "l_slither = preprocessing.LabelEncoder()\n",
    "l_mythril = preprocessing.LabelEncoder()\n",
    "l_maian = preprocessing.LabelEncoder()\n",
    "l_conkas = preprocessing.LabelEncoder()\n",
    "\n",
    "# Prepare level encodings\n",
    "l_solhint_level = preprocessing.LabelEncoder()\n",
    "l_oyente_level = preprocessing.LabelEncoder()\n",
    "l_honeybadger_level = preprocessing.LabelEncoder()\n",
    "l_osiris_level = preprocessing.LabelEncoder()\n",
    "l_securify_level = preprocessing.LabelEncoder()\n",
    "l_manticore_level = preprocessing.LabelEncoder()\n",
    "l_smartcheck_level = preprocessing.LabelEncoder()\n",
    "l_slither_level = preprocessing.LabelEncoder()\n",
    "l_mythril_level = preprocessing.LabelEncoder()\n",
    "l_maian_level = preprocessing.LabelEncoder()\n",
    "l_conkas_level = preprocessing.LabelEncoder()\n",
    "\n",
    "# Fit encoders to their respective collumns\n",
    "l_solhint.fit(x['Solhint_rule_id'])\n",
    "l_oyente.fit(x['Oyente_rule_id'])\n",
    "l_honeybadger.fit(x['HoneyBadger_rule_id'])\n",
    "l_osiris.fit(x['Osiris_rule_id'])\n",
    "l_securify.fit(x['Securify_rule_id'])\n",
    "l_manticore.fit(x['Manticore_rule_id'])\n",
    "l_smartcheck.fit(x['SmartCheck_rule_id'])\n",
    "l_slither.fit(x['Slither_rule_id'])\n",
    "l_mythril.fit(x['Mythril_rule_id'])\n",
    "l_maian.fit(x['Maian_rule_id'])\n",
    "l_conkas.fit(x['Conkas_rule_id'])\n",
    "\n",
    "# Fir level encodings\n",
    "l_solhint_level.fit(x['Solhint_level'])\n",
    "l_oyente_level.fit(x['Oyente_level'])\n",
    "l_honeybadger_level.fit(x['HoneyBadger_level'])\n",
    "l_osiris_level.fit(x['Osiris_level'])\n",
    "l_securify_level.fit(x['Securify_level'])\n",
    "l_manticore_level.fit(x['Manticore_level'])\n",
    "l_smartcheck_level.fit(x['SmartCheck_level'])\n",
    "l_slither_level.fit(x['Slither_level'])\n",
    "l_mythril_level.fit(x['Mythril_level'])\n",
    "l_maian_level.fit(x['Maian_level'])\n",
    "l_conkas_level.fit(x['Conkas_level'])\n",
    "\n",
    "# Get transformed collums\n",
    "x_solhint = l_solhint.transform(x['Solhint_rule_id'])\n",
    "x_oyente = l_oyente.transform(x['Oyente_rule_id'])\n",
    "x_honeybadger = l_honeybadger.transform(x['HoneyBadger_rule_id'])\n",
    "x_osiris = l_osiris.transform(x['Osiris_rule_id'])\n",
    "x_securify = l_securify.transform(x['Securify_rule_id'])\n",
    "x_manticore = l_manticore.transform(x['Manticore_rule_id'])\n",
    "x_smartcheck = l_smartcheck.transform(x['SmartCheck_rule_id'])\n",
    "x_slither = l_slither.transform(x['Slither_rule_id'])\n",
    "x_mythril = l_mythril.transform(x['Mythril_rule_id'])\n",
    "x_maian = l_maian.transform(x['Maian_rule_id'])\n",
    "x_conkas = l_conkas.transform(x['Conkas_rule_id'])\n",
    "\n",
    "# Get level collumns for all tools\n",
    "x_solhint_level = l_solhint_level.transform(x['Solhint_level'])\n",
    "x_oyente_level = l_oyente_level.transform(x['Oyente_level'])\n",
    "x_honeybadger_level = l_honeybadger_level.transform(x['HoneyBadger_level'])\n",
    "x_osiris_level = l_osiris_level.transform(x['Osiris_level'])\n",
    "x_securify_level = l_securify_level.transform(x['Securify_level'])\n",
    "x_manticore_level = l_manticore_level.transform(x['Manticore_level'])\n",
    "x_smartcheck_level = l_smartcheck_level.transform(x['SmartCheck_level'])\n",
    "x_slither_level = l_slither_level.transform(x['Slither_level'])\n",
    "x_mythril_level = l_mythril_level.transform(x['Mythril_level'])\n",
    "x_maian_level = l_maian_level.transform(x['Maian_level'])\n",
    "x_conkas_level = l_conkas_level.transform(x['Conkas_level'])\n",
    "\n",
    "# Substitute collumns for their encoded counterparts\n",
    "x['Solhint_rule_id'] = x_solhint\n",
    "x['Oyente_rule_id'] = x_oyente\n",
    "x['HoneyBadger_rule_id'] = x_honeybadger\n",
    "x['Osiris_rule_id'] = x_osiris\n",
    "x['Securify_rule_id'] = x_securify\n",
    "x['Manticore_rule_id'] = x_manticore\n",
    "x['SmartCheck_rule_id'] = x_smartcheck\n",
    "x['Slither_rule_id'] = x_slither\n",
    "x['Mythril_rule_id'] = x_mythril\n",
    "x['Maian_rule_id'] = x_maian\n",
    "x['Conkas_rule_id'] = x_conkas\n",
    "\n",
    "# Substitute level collumns\n",
    "x['Solhint_level'] = x_solhint_level\n",
    "x['Oyente_level'] = x_oyente_level\n",
    "x['HoneyBadger_level'] = x_honeybadger_level\n",
    "x['Osiris_level'] = x_osiris_level\n",
    "x['Securify_level'] = x_securify_level\n",
    "x['Manticore_level'] = x_securify_level\n",
    "x['SmartCheck_level'] = x_smartcheck_level\n",
    "x['Slither_level'] = x_slither_level\n",
    "x['Mythril_level'] = x_mythril_level\n",
    "x['Maian_level'] = x_maian_level\n",
    "x['Conkas_level'] = x_conkas_level\n",
    "\n",
    "\n",
    "x"
   ]
  },
  {
   "cell_type": "markdown",
   "id": "31dfa21f",
   "metadata": {},
   "source": [
    "# Test Data Division"
   ]
  },
  {
   "cell_type": "code",
   "execution_count": 5,
   "id": "aa95069f",
   "metadata": {},
   "outputs": [],
   "source": [
    "from sklearn.model_selection import train_test_split\n",
    "\n",
    "x_train, x_test, y_train, y_test = train_test_split(x, y, test_size=0.3)"
   ]
  },
  {
   "cell_type": "code",
   "execution_count": 6,
   "id": "2d602e5e",
   "metadata": {},
   "outputs": [
    {
     "data": {
      "text/html": [
       "<div>\n",
       "<style scoped>\n",
       "    .dataframe tbody tr th:only-of-type {\n",
       "        vertical-align: middle;\n",
       "    }\n",
       "\n",
       "    .dataframe tbody tr th {\n",
       "        vertical-align: top;\n",
       "    }\n",
       "\n",
       "    .dataframe thead th {\n",
       "        text-align: right;\n",
       "    }\n",
       "</style>\n",
       "<table border=\"1\" class=\"dataframe\">\n",
       "  <thead>\n",
       "    <tr style=\"text-align: right;\">\n",
       "      <th></th>\n",
       "      <th>SmartCheck_rule_id</th>\n",
       "      <th>SmartCheck_level</th>\n",
       "      <th>Oyente_rule_id</th>\n",
       "      <th>Oyente_level</th>\n",
       "      <th>Maian_rule_id</th>\n",
       "      <th>Maian_level</th>\n",
       "      <th>Conkas_rule_id</th>\n",
       "      <th>Conkas_level</th>\n",
       "      <th>Manticore_rule_id</th>\n",
       "      <th>Manticore_level</th>\n",
       "      <th>...</th>\n",
       "      <th>Mythril_rule_id</th>\n",
       "      <th>Mythril_level</th>\n",
       "      <th>Osiris_rule_id</th>\n",
       "      <th>Osiris_level</th>\n",
       "      <th>Solhint_rule_id</th>\n",
       "      <th>Solhint_level</th>\n",
       "      <th>Securify_rule_id</th>\n",
       "      <th>Securify_level</th>\n",
       "      <th>Slither_rule_id</th>\n",
       "      <th>Slither_level</th>\n",
       "    </tr>\n",
       "  </thead>\n",
       "  <tbody>\n",
       "    <tr>\n",
       "      <th>count</th>\n",
       "      <td>23105.000000</td>\n",
       "      <td>23105.000000</td>\n",
       "      <td>23105.000000</td>\n",
       "      <td>23105.000000</td>\n",
       "      <td>23105.0</td>\n",
       "      <td>23105.0</td>\n",
       "      <td>23105.0</td>\n",
       "      <td>23105.0</td>\n",
       "      <td>23105.000000</td>\n",
       "      <td>23105.000000</td>\n",
       "      <td>...</td>\n",
       "      <td>23105.000000</td>\n",
       "      <td>23105.000000</td>\n",
       "      <td>23105.000000</td>\n",
       "      <td>23105.000000</td>\n",
       "      <td>23105.000000</td>\n",
       "      <td>23105.000000</td>\n",
       "      <td>23105.000000</td>\n",
       "      <td>23105.000000</td>\n",
       "      <td>23105.000000</td>\n",
       "      <td>23105.000000</td>\n",
       "    </tr>\n",
       "    <tr>\n",
       "      <th>mean</th>\n",
       "      <td>3.525601</td>\n",
       "      <td>0.167453</td>\n",
       "      <td>0.010474</td>\n",
       "      <td>0.005453</td>\n",
       "      <td>0.0</td>\n",
       "      <td>0.0</td>\n",
       "      <td>0.0</td>\n",
       "      <td>0.0</td>\n",
       "      <td>0.034538</td>\n",
       "      <td>0.065484</td>\n",
       "      <td>...</td>\n",
       "      <td>0.049124</td>\n",
       "      <td>0.009478</td>\n",
       "      <td>0.019000</td>\n",
       "      <td>0.005453</td>\n",
       "      <td>0.615927</td>\n",
       "      <td>0.608180</td>\n",
       "      <td>0.066739</td>\n",
       "      <td>0.065484</td>\n",
       "      <td>3.391474</td>\n",
       "      <td>0.728414</td>\n",
       "    </tr>\n",
       "    <tr>\n",
       "      <th>std</th>\n",
       "      <td>8.319367</td>\n",
       "      <td>0.373388</td>\n",
       "      <td>0.166886</td>\n",
       "      <td>0.073647</td>\n",
       "      <td>0.0</td>\n",
       "      <td>0.0</td>\n",
       "      <td>0.0</td>\n",
       "      <td>0.0</td>\n",
       "      <td>0.603919</td>\n",
       "      <td>0.477594</td>\n",
       "      <td>...</td>\n",
       "      <td>0.679935</td>\n",
       "      <td>0.128066</td>\n",
       "      <td>0.293974</td>\n",
       "      <td>0.073647</td>\n",
       "      <td>0.502062</td>\n",
       "      <td>0.488167</td>\n",
       "      <td>0.493513</td>\n",
       "      <td>0.477594</td>\n",
       "      <td>6.072515</td>\n",
       "      <td>1.023757</td>\n",
       "    </tr>\n",
       "    <tr>\n",
       "      <th>min</th>\n",
       "      <td>0.000000</td>\n",
       "      <td>0.000000</td>\n",
       "      <td>0.000000</td>\n",
       "      <td>0.000000</td>\n",
       "      <td>0.0</td>\n",
       "      <td>0.0</td>\n",
       "      <td>0.0</td>\n",
       "      <td>0.0</td>\n",
       "      <td>0.000000</td>\n",
       "      <td>0.000000</td>\n",
       "      <td>...</td>\n",
       "      <td>0.000000</td>\n",
       "      <td>0.000000</td>\n",
       "      <td>0.000000</td>\n",
       "      <td>0.000000</td>\n",
       "      <td>0.000000</td>\n",
       "      <td>0.000000</td>\n",
       "      <td>0.000000</td>\n",
       "      <td>0.000000</td>\n",
       "      <td>0.000000</td>\n",
       "      <td>0.000000</td>\n",
       "    </tr>\n",
       "    <tr>\n",
       "      <th>25%</th>\n",
       "      <td>0.000000</td>\n",
       "      <td>0.000000</td>\n",
       "      <td>0.000000</td>\n",
       "      <td>0.000000</td>\n",
       "      <td>0.0</td>\n",
       "      <td>0.0</td>\n",
       "      <td>0.0</td>\n",
       "      <td>0.0</td>\n",
       "      <td>0.000000</td>\n",
       "      <td>0.000000</td>\n",
       "      <td>...</td>\n",
       "      <td>0.000000</td>\n",
       "      <td>0.000000</td>\n",
       "      <td>0.000000</td>\n",
       "      <td>0.000000</td>\n",
       "      <td>0.000000</td>\n",
       "      <td>0.000000</td>\n",
       "      <td>0.000000</td>\n",
       "      <td>0.000000</td>\n",
       "      <td>0.000000</td>\n",
       "      <td>0.000000</td>\n",
       "    </tr>\n",
       "    <tr>\n",
       "      <th>50%</th>\n",
       "      <td>0.000000</td>\n",
       "      <td>0.000000</td>\n",
       "      <td>0.000000</td>\n",
       "      <td>0.000000</td>\n",
       "      <td>0.0</td>\n",
       "      <td>0.0</td>\n",
       "      <td>0.0</td>\n",
       "      <td>0.0</td>\n",
       "      <td>0.000000</td>\n",
       "      <td>0.000000</td>\n",
       "      <td>...</td>\n",
       "      <td>0.000000</td>\n",
       "      <td>0.000000</td>\n",
       "      <td>0.000000</td>\n",
       "      <td>0.000000</td>\n",
       "      <td>1.000000</td>\n",
       "      <td>1.000000</td>\n",
       "      <td>0.000000</td>\n",
       "      <td>0.000000</td>\n",
       "      <td>0.000000</td>\n",
       "      <td>0.000000</td>\n",
       "    </tr>\n",
       "    <tr>\n",
       "      <th>75%</th>\n",
       "      <td>0.000000</td>\n",
       "      <td>0.000000</td>\n",
       "      <td>0.000000</td>\n",
       "      <td>0.000000</td>\n",
       "      <td>0.0</td>\n",
       "      <td>0.0</td>\n",
       "      <td>0.0</td>\n",
       "      <td>0.0</td>\n",
       "      <td>0.000000</td>\n",
       "      <td>0.000000</td>\n",
       "      <td>...</td>\n",
       "      <td>0.000000</td>\n",
       "      <td>0.000000</td>\n",
       "      <td>0.000000</td>\n",
       "      <td>0.000000</td>\n",
       "      <td>1.000000</td>\n",
       "      <td>1.000000</td>\n",
       "      <td>0.000000</td>\n",
       "      <td>0.000000</td>\n",
       "      <td>7.000000</td>\n",
       "      <td>2.000000</td>\n",
       "    </tr>\n",
       "    <tr>\n",
       "      <th>max</th>\n",
       "      <td>31.000000</td>\n",
       "      <td>1.000000</td>\n",
       "      <td>5.000000</td>\n",
       "      <td>1.000000</td>\n",
       "      <td>0.0</td>\n",
       "      <td>0.0</td>\n",
       "      <td>0.0</td>\n",
       "      <td>0.0</td>\n",
       "      <td>15.000000</td>\n",
       "      <td>4.000000</td>\n",
       "      <td>...</td>\n",
       "      <td>12.000000</td>\n",
       "      <td>2.000000</td>\n",
       "      <td>7.000000</td>\n",
       "      <td>1.000000</td>\n",
       "      <td>2.000000</td>\n",
       "      <td>1.000000</td>\n",
       "      <td>5.000000</td>\n",
       "      <td>4.000000</td>\n",
       "      <td>26.000000</td>\n",
       "      <td>3.000000</td>\n",
       "    </tr>\n",
       "  </tbody>\n",
       "</table>\n",
       "<p>8 rows × 22 columns</p>\n",
       "</div>"
      ],
      "text/plain": [
       "       SmartCheck_rule_id  SmartCheck_level  Oyente_rule_id  Oyente_level  \\\n",
       "count        23105.000000      23105.000000    23105.000000  23105.000000   \n",
       "mean             3.525601          0.167453        0.010474      0.005453   \n",
       "std              8.319367          0.373388        0.166886      0.073647   \n",
       "min              0.000000          0.000000        0.000000      0.000000   \n",
       "25%              0.000000          0.000000        0.000000      0.000000   \n",
       "50%              0.000000          0.000000        0.000000      0.000000   \n",
       "75%              0.000000          0.000000        0.000000      0.000000   \n",
       "max             31.000000          1.000000        5.000000      1.000000   \n",
       "\n",
       "       Maian_rule_id  Maian_level  Conkas_rule_id  Conkas_level  \\\n",
       "count        23105.0      23105.0         23105.0       23105.0   \n",
       "mean             0.0          0.0             0.0           0.0   \n",
       "std              0.0          0.0             0.0           0.0   \n",
       "min              0.0          0.0             0.0           0.0   \n",
       "25%              0.0          0.0             0.0           0.0   \n",
       "50%              0.0          0.0             0.0           0.0   \n",
       "75%              0.0          0.0             0.0           0.0   \n",
       "max              0.0          0.0             0.0           0.0   \n",
       "\n",
       "       Manticore_rule_id  Manticore_level  ...  Mythril_rule_id  \\\n",
       "count       23105.000000     23105.000000  ...     23105.000000   \n",
       "mean            0.034538         0.065484  ...         0.049124   \n",
       "std             0.603919         0.477594  ...         0.679935   \n",
       "min             0.000000         0.000000  ...         0.000000   \n",
       "25%             0.000000         0.000000  ...         0.000000   \n",
       "50%             0.000000         0.000000  ...         0.000000   \n",
       "75%             0.000000         0.000000  ...         0.000000   \n",
       "max            15.000000         4.000000  ...        12.000000   \n",
       "\n",
       "       Mythril_level  Osiris_rule_id  Osiris_level  Solhint_rule_id  \\\n",
       "count   23105.000000    23105.000000  23105.000000     23105.000000   \n",
       "mean        0.009478        0.019000      0.005453         0.615927   \n",
       "std         0.128066        0.293974      0.073647         0.502062   \n",
       "min         0.000000        0.000000      0.000000         0.000000   \n",
       "25%         0.000000        0.000000      0.000000         0.000000   \n",
       "50%         0.000000        0.000000      0.000000         1.000000   \n",
       "75%         0.000000        0.000000      0.000000         1.000000   \n",
       "max         2.000000        7.000000      1.000000         2.000000   \n",
       "\n",
       "       Solhint_level  Securify_rule_id  Securify_level  Slither_rule_id  \\\n",
       "count   23105.000000      23105.000000    23105.000000     23105.000000   \n",
       "mean        0.608180          0.066739        0.065484         3.391474   \n",
       "std         0.488167          0.493513        0.477594         6.072515   \n",
       "min         0.000000          0.000000        0.000000         0.000000   \n",
       "25%         0.000000          0.000000        0.000000         0.000000   \n",
       "50%         1.000000          0.000000        0.000000         0.000000   \n",
       "75%         1.000000          0.000000        0.000000         7.000000   \n",
       "max         1.000000          5.000000        4.000000        26.000000   \n",
       "\n",
       "       Slither_level  \n",
       "count   23105.000000  \n",
       "mean        0.728414  \n",
       "std         1.023757  \n",
       "min         0.000000  \n",
       "25%         0.000000  \n",
       "50%         0.000000  \n",
       "75%         2.000000  \n",
       "max         3.000000  \n",
       "\n",
       "[8 rows x 22 columns]"
      ]
     },
     "execution_count": 6,
     "metadata": {},
     "output_type": "execute_result"
    }
   ],
   "source": [
    "x_test.describe(include = \"all\")"
   ]
  },
  {
   "cell_type": "code",
   "execution_count": 7,
   "id": "21c2a902",
   "metadata": {},
   "outputs": [
    {
     "data": {
      "text/plain": [
       "False    19417\n",
       "True      3688\n",
       "Name: Value, dtype: int64"
      ]
     },
     "execution_count": 7,
     "metadata": {},
     "output_type": "execute_result"
    }
   ],
   "source": [
    "y_test.value_counts()"
   ]
  },
  {
   "cell_type": "markdown",
   "id": "6e3c1f63",
   "metadata": {},
   "source": [
    "# Prioritization function"
   ]
  },
  {
   "cell_type": "code",
   "execution_count": 8,
   "id": "dd774054",
   "metadata": {},
   "outputs": [],
   "source": [
    "from sklearn.metrics import accuracy_score\n",
    "from sklearn.metrics import f1_score\n",
    "from sklearn.metrics import recall_score\n",
    "\n",
    "def apbd(predictions):\n",
    "    weight_avg = 0\n",
    "    \n",
    "    n = len(predictions[\"prediction\"])\n",
    "    m = 0\n",
    "    \n",
    "    for i in range(len(predictions[\"prediction\"])):\n",
    "        #print(i, sorted_pred[\"prediction\"][i], sorted_pred[\"value\"][i])\n",
    "        if predictions[\"value\"][i] == True:\n",
    "            weight_avg += i\n",
    "            m += 1\n",
    "    \n",
    "    res = 1 - (weight_avg/(n*m)) + 1/(2*n)\n",
    "    \n",
    "    return res\n",
    "    \n",
    "def prio(predictions, values):\n",
    "    s1 = pd.Series(predictions, name = \"prediction\").reset_index()\n",
    "    s2 = pd.Series(values, name = \"value\").reset_index()\n",
    "    s3 = pd.Series(s2[\"value\"], name = \"value\").reset_index()\n",
    "    res = pd.concat([s1, s3], axis=1).drop(columns=[\"index\"])\n",
    "    sorted_pred = res.sort_values(by=[\"prediction\"], ignore_index=True, ascending=False)\n",
    "    \n",
    "    return sorted_pred"
   ]
  },
  {
   "cell_type": "markdown",
   "id": "6766c9e8",
   "metadata": {},
   "source": [
    "# Polt Function"
   ]
  },
  {
   "cell_type": "code",
   "execution_count": 109,
   "id": "b0f1acb8",
   "metadata": {},
   "outputs": [],
   "source": [
    "import matplotlib.pyplot as plt\n",
    "\n",
    "def plot_true_bugs (predictions):\n",
    "    x_axis = []\n",
    "    y_axis = []\n",
    "    perfect_y = []\n",
    "    random_y = []\n",
    "    perfect_i = 0\n",
    "    random_i = 0\n",
    "    bugs_found = 0\n",
    "    total_bugs=0\n",
    "    total_reports = len(predictions[\"prediction\"])\n",
    "    plt.clf()\n",
    "    \n",
    "    for i in range(len(predictions[\"prediction\"])):\n",
    "        # Test for only 1 in each 1000\n",
    "        #if i % 1000 != 0:\n",
    "        #    continue\n",
    "            \n",
    "        if predictions[\"value\"][i] == True:\n",
    "            total_bugs +=1\n",
    "    \n",
    "    for i in range(len(predictions[\"prediction\"])):\n",
    "        # Test for only 1 in each 1000\n",
    "        #if i % 1000 != 0:\n",
    "        #    continue\n",
    "            \n",
    "        # Measure Model\n",
    "        if predictions[\"value\"][i] == True:\n",
    "            bugs_found += 1\n",
    "        \n",
    "        x_axis.append(i)\n",
    "        y_axis.append((bugs_found/total_bugs)*100)\n",
    "        \n",
    "        # Measure Perfect\n",
    "        if i < total_bugs:\n",
    "            perfect_i += 1\n",
    "        \n",
    "        perfect_y.append((perfect_i/total_bugs)*100)\n",
    "        \n",
    "        # Measure Average\n",
    "        random_i = (i * total_bugs) / total_reports\n",
    "        random_y.append((random_i/total_bugs)*100)\n",
    "        \n",
    "    \n",
    "    plt.plot(x_axis, y_axis, label = \"model\", color=\"blue\", zorder=3)\n",
    "    plt.plot(x_axis, perfect_y , label = \"perfect\", color=\"green\", zorder=2)\n",
    "    plt.plot(x_axis, random_y , label = \"random\", color=\"red\", zorder=1)\n",
    "    plt.xlabel('Bugs Analyzed')\n",
    "    plt.ylabel('% of True Bugs Found')\n",
    "    plt.title('True Bugs Found Over Time')\n",
    "\n",
    "    plt.legend()\n",
    "    return plt"
   ]
  },
  {
   "cell_type": "markdown",
   "id": "a54bb30f",
   "metadata": {},
   "source": [
    "# Decison Tree Classifier"
   ]
  },
  {
   "cell_type": "code",
   "execution_count": 103,
   "id": "f73d8eff",
   "metadata": {},
   "outputs": [
    {
     "data": {
      "text/plain": [
       "DecisionTreeClassifier()"
      ]
     },
     "execution_count": 103,
     "metadata": {},
     "output_type": "execute_result"
    },
    {
     "data": {
      "text/plain": [
       "0.9924691625189352"
      ]
     },
     "execution_count": 103,
     "metadata": {},
     "output_type": "execute_result"
    },
    {
     "data": {
      "text/plain": [
       "0.9762165117550574"
      ]
     },
     "execution_count": 103,
     "metadata": {},
     "output_type": "execute_result"
    },
    {
     "data": {
      "text/plain": [
       "0.9682754880694143"
      ]
     },
     "execution_count": 103,
     "metadata": {},
     "output_type": "execute_result"
    }
   ],
   "source": [
    "from sklearn.tree import DecisionTreeClassifier\n",
    "decision_tree_classifier_model = DecisionTreeClassifier()\n",
    "decision_tree_classifier_model.fit(x_train, y_train)\n",
    "\n",
    "predictions = decision_tree_classifier_model.predict(x_test)\n",
    "\n",
    "score = accuracy_score(y_test, predictions)\n",
    "f1 = f1_score(y_test, predictions)\n",
    "recall = recall_score(y_test, predictions)\n",
    "\n",
    "final_prio = prio(predictions, y_test)\n",
    "\n",
    "score\n",
    "f1\n",
    "recall"
   ]
  },
  {
   "cell_type": "code",
   "execution_count": 104,
   "id": "4d585d91",
   "metadata": {},
   "outputs": [
    {
     "data": {
      "text/plain": [
       "array([False, False, False, ..., False, False,  True])"
      ]
     },
     "execution_count": 104,
     "metadata": {},
     "output_type": "execute_result"
    }
   ],
   "source": [
    "predictions"
   ]
  },
  {
   "cell_type": "code",
   "execution_count": 105,
   "id": "84f1a470",
   "metadata": {},
   "outputs": [
    {
     "data": {
      "text/plain": [
       "0.9056512497647023"
      ]
     },
     "execution_count": 105,
     "metadata": {},
     "output_type": "execute_result"
    }
   ],
   "source": [
    "apbd(final_prio)"
   ]
  },
  {
   "cell_type": "code",
   "execution_count": 110,
   "id": "78ec80d6",
   "metadata": {},
   "outputs": [
    {
     "data": {
      "image/png": "[encoded data removed]",
      "text/plain": [
       "<Figure size 432x288 with 1 Axes>"
      ]
     },
     "metadata": {
      "needs_background": "light"
     },
     "output_type": "display_data"
    }
   ],
   "source": [
    "plot_true_bugs(final_prio).show()"
   ]
  },
  {
   "cell_type": "markdown",
   "id": "b28a640d",
   "metadata": {},
   "source": [
    "# Logistic Regression CV"
   ]
  },
  {
   "cell_type": "code",
   "execution_count": 14,
   "id": "fc12a2a6",
   "metadata": {},
   "outputs": [
    {
     "data": {
      "text/plain": [
       "LogisticRegressionCV(cv=10, max_iter=100000)"
      ]
     },
     "execution_count": 14,
     "metadata": {},
     "output_type": "execute_result"
    },
    {
     "data": {
      "text/plain": [
       "0.9325254273966674"
      ]
     },
     "execution_count": 14,
     "metadata": {},
     "output_type": "execute_result"
    },
    {
     "data": {
      "text/plain": [
       "0.7328191945158526"
      ]
     },
     "execution_count": 14,
     "metadata": {},
     "output_type": "execute_result"
    },
    {
     "data": {
      "text/plain": [
       "0.5797180043383948"
      ]
     },
     "execution_count": 14,
     "metadata": {},
     "output_type": "execute_result"
    }
   ],
   "source": [
    "from sklearn.linear_model import LogisticRegressionCV\n",
    "logistic_regression_cv_model = LogisticRegressionCV(cv=10, max_iter=100000)\n",
    "logistic_regression_cv_model.fit(x_train, y_train)\n",
    "\n",
    "predictions = logistic_regression_cv_model.predict(x_test)\n",
    "predictions_probability = logistic_regression_cv_model.predict_proba(x_test)\n",
    "\n",
    "score = accuracy_score(y_test, predictions)\n",
    "f1 = f1_score(y_test, predictions)\n",
    "recall = recall_score(y_test, predictions)\n",
    "\n",
    "final_prio = prio(predictions, y_test)\n",
    "\n",
    "score\n",
    "f1\n",
    "recall"
   ]
  },
  {
   "cell_type": "code",
   "execution_count": 15,
   "id": "6d28ccaf",
   "metadata": {},
   "outputs": [
    {
     "data": {
      "text/plain": [
       "array([False, False, False, ..., False, False, False])"
      ]
     },
     "execution_count": 15,
     "metadata": {},
     "output_type": "execute_result"
    }
   ],
   "source": [
    "predictions"
   ]
  },
  {
   "cell_type": "code",
   "execution_count": 16,
   "id": "851a5f52",
   "metadata": {},
   "outputs": [
    {
     "data": {
      "text/plain": [
       "array([[0.98471571, 0.01528429],\n",
       "       [0.63537892, 0.36462108],\n",
       "       [0.63537892, 0.36462108],\n",
       "       ...,\n",
       "       [0.56462697, 0.43537303],\n",
       "       [0.9942086 , 0.0057914 ],\n",
       "       [0.76934598, 0.23065402]])"
      ]
     },
     "execution_count": 16,
     "metadata": {},
     "output_type": "execute_result"
    }
   ],
   "source": [
    "predictions_probability"
   ]
  },
  {
   "cell_type": "code",
   "execution_count": 17,
   "id": "bf7bb2dd",
   "metadata": {},
   "outputs": [
    {
     "data": {
      "text/plain": [
       "0.7467103752979067"
      ]
     },
     "execution_count": 17,
     "metadata": {},
     "output_type": "execute_result"
    }
   ],
   "source": [
    "apbd(final_prio)"
   ]
  },
  {
   "cell_type": "code",
   "execution_count": 18,
   "id": "5b06c2a1",
   "metadata": {},
   "outputs": [
    {
     "data": {
      "image/png": "[encoded data removed]",
      "text/plain": [
       "<Figure size 432x288 with 1 Axes>"
      ]
     },
     "metadata": {
      "needs_background": "light"
     },
     "output_type": "display_data"
    }
   ],
   "source": [
    "plot_true_bugs(final_prio).show()"
   ]
  },
  {
   "cell_type": "markdown",
   "id": "94b209c5",
   "metadata": {},
   "source": [
    "# Logistic Regression"
   ]
  },
  {
   "cell_type": "code",
   "execution_count": 19,
   "id": "755e5e45",
   "metadata": {},
   "outputs": [
    {
     "data": {
      "text/plain": [
       "LogisticRegression(max_iter=100000)"
      ]
     },
     "execution_count": 19,
     "metadata": {},
     "output_type": "execute_result"
    },
    {
     "data": {
      "text/plain": [
       "0.8916251893529539"
      ]
     },
     "execution_count": 19,
     "metadata": {},
     "output_type": "execute_result"
    },
    {
     "data": {
      "text/plain": [
       "0.6429997148560023"
      ]
     },
     "execution_count": 19,
     "metadata": {},
     "output_type": "execute_result"
    },
    {
     "data": {
      "text/plain": [
       "0.6114425162689805"
      ]
     },
     "execution_count": 19,
     "metadata": {},
     "output_type": "execute_result"
    }
   ],
   "source": [
    "from sklearn.linear_model import LogisticRegression\n",
    "logistic_reggression_model = LogisticRegression(max_iter=100000)\n",
    "logistic_reggression_model.fit(x_train, y_train)\n",
    "\n",
    "predictions = logistic_reggression_model.predict(x_test)\n",
    "predictions_probability = logistic_reggression_model.predict_proba(x_test)\n",
    "\n",
    "score = accuracy_score(y_test, predictions)\n",
    "f1 = f1_score(y_test, predictions)\n",
    "recall = recall_score(y_test, predictions)\n",
    "\n",
    "final_prio = prio(predictions, y_test)\n",
    "\n",
    "score\n",
    "f1\n",
    "recall"
   ]
  },
  {
   "cell_type": "code",
   "execution_count": 20,
   "id": "7cc6b5c7",
   "metadata": {},
   "outputs": [
    {
     "data": {
      "text/plain": [
       "array([False, False, False, ..., False, False, False])"
      ]
     },
     "execution_count": 20,
     "metadata": {},
     "output_type": "execute_result"
    }
   ],
   "source": [
    "predictions"
   ]
  },
  {
   "cell_type": "code",
   "execution_count": 21,
   "id": "14403423",
   "metadata": {},
   "outputs": [
    {
     "data": {
      "text/plain": [
       "array([[9.99800839e-01, 1.99160864e-04],\n",
       "       [6.20074620e-01, 3.79925380e-01],\n",
       "       [6.20074620e-01, 3.79925380e-01],\n",
       "       ...,\n",
       "       [5.14237949e-01, 4.85762051e-01],\n",
       "       [9.99947583e-01, 5.24167943e-05],\n",
       "       [7.94022010e-01, 2.05977990e-01]])"
      ]
     },
     "execution_count": 21,
     "metadata": {},
     "output_type": "execute_result"
    }
   ],
   "source": [
    "predictions_probability"
   ]
  },
  {
   "cell_type": "code",
   "execution_count": 22,
   "id": "bca7efb0",
   "metadata": {},
   "outputs": [
    {
     "data": {
      "text/plain": [
       "0.7372292786726258"
      ]
     },
     "execution_count": 22,
     "metadata": {},
     "output_type": "execute_result"
    }
   ],
   "source": [
    "apbd(final_prio)"
   ]
  },
  {
   "cell_type": "code",
   "execution_count": 23,
   "id": "6aacd79c",
   "metadata": {},
   "outputs": [
    {
     "data": {
      "image/png": "[encoded data removed]",
      "text/plain": [
       "<Figure size 432x288 with 1 Axes>"
      ]
     },
     "metadata": {
      "needs_background": "light"
     },
     "output_type": "display_data"
    }
   ],
   "source": [
    "plot_true_bugs(final_prio).show()"
   ]
  },
  {
   "cell_type": "markdown",
   "id": "92dc4a86",
   "metadata": {},
   "source": [
    "# Percepton"
   ]
  },
  {
   "cell_type": "code",
   "execution_count": 24,
   "id": "7eaa3a8d",
   "metadata": {},
   "outputs": [
    {
     "data": {
      "text/plain": [
       "Perceptron()"
      ]
     },
     "execution_count": 24,
     "metadata": {},
     "output_type": "execute_result"
    },
    {
     "data": {
      "text/plain": [
       "0.8553127028781649"
      ]
     },
     "execution_count": 24,
     "metadata": {},
     "output_type": "execute_result"
    },
    {
     "data": {
      "text/plain": [
       "0.6244242219975285"
      ]
     },
     "execution_count": 24,
     "metadata": {},
     "output_type": "execute_result"
    },
    {
     "data": {
      "text/plain": [
       "0.7535249457700651"
      ]
     },
     "execution_count": 24,
     "metadata": {},
     "output_type": "execute_result"
    }
   ],
   "source": [
    "from sklearn.linear_model import Perceptron\n",
    "percepton_model = Perceptron()\n",
    "percepton_model.fit(x_train, y_train)\n",
    "\n",
    "predictions = percepton_model.predict(x_test)\n",
    "\n",
    "score = accuracy_score(y_test, predictions)\n",
    "f1 = f1_score(y_test, predictions)\n",
    "recall = recall_score(y_test, predictions)\n",
    "\n",
    "final_prio = prio(predictions, y_test)\n",
    "\n",
    "score\n",
    "f1\n",
    "recall"
   ]
  },
  {
   "cell_type": "code",
   "execution_count": 25,
   "id": "820e06e8",
   "metadata": {},
   "outputs": [
    {
     "data": {
      "text/plain": [
       "array([False,  True,  True, ..., False, False, False])"
      ]
     },
     "execution_count": 25,
     "metadata": {},
     "output_type": "execute_result"
    }
   ],
   "source": [
    "predictions"
   ]
  },
  {
   "cell_type": "code",
   "execution_count": 26,
   "id": "e072db0a",
   "metadata": {},
   "outputs": [
    {
     "data": {
      "text/plain": [
       "0.76503423726729"
      ]
     },
     "execution_count": 26,
     "metadata": {},
     "output_type": "execute_result"
    }
   ],
   "source": [
    "apbd(final_prio)"
   ]
  },
  {
   "cell_type": "code",
   "execution_count": 27,
   "id": "3ac35756",
   "metadata": {},
   "outputs": [
    {
     "data": {
      "image/png": "[encoded data removed]",
      "text/plain": [
       "<Figure size 432x288 with 1 Axes>"
      ]
     },
     "metadata": {
      "needs_background": "light"
     },
     "output_type": "display_data"
    }
   ],
   "source": [
    "plot_true_bugs(final_prio).show()"
   ]
  },
  {
   "cell_type": "markdown",
   "id": "59f24f47",
   "metadata": {},
   "source": [
    "# Passive Aggressive Classifier"
   ]
  },
  {
   "cell_type": "code",
   "execution_count": 28,
   "id": "e608d385",
   "metadata": {},
   "outputs": [
    {
     "data": {
      "text/plain": [
       "PassiveAggressiveClassifier()"
      ]
     },
     "execution_count": 28,
     "metadata": {},
     "output_type": "execute_result"
    },
    {
     "data": {
      "text/plain": [
       "0.8038086994157109"
      ]
     },
     "execution_count": 28,
     "metadata": {},
     "output_type": "execute_result"
    },
    {
     "data": {
      "text/plain": [
       "0.2750679673756597"
      ]
     },
     "execution_count": 28,
     "metadata": {},
     "output_type": "execute_result"
    },
    {
     "data": {
      "text/plain": [
       "0.23318872017353579"
      ]
     },
     "execution_count": 28,
     "metadata": {},
     "output_type": "execute_result"
    }
   ],
   "source": [
    "from sklearn.linear_model import PassiveAggressiveClassifier\n",
    "passive_aggressive_classifier_model = PassiveAggressiveClassifier()\n",
    "passive_aggressive_classifier_model.fit(x_train, y_train)\n",
    "\n",
    "predictions = passive_aggressive_classifier_model.predict(x_test)\n",
    "\n",
    "score = accuracy_score(y_test, predictions)\n",
    "f1 = f1_score(y_test, predictions)\n",
    "recall = recall_score(y_test, predictions)\n",
    "\n",
    "final_prio = prio(predictions, y_test)\n",
    "\n",
    "score\n",
    "f1\n",
    "recall"
   ]
  },
  {
   "cell_type": "code",
   "execution_count": 29,
   "id": "448ba494",
   "metadata": {},
   "outputs": [
    {
     "data": {
      "text/plain": [
       "array([False,  True,  True, ..., False, False,  True])"
      ]
     },
     "execution_count": 29,
     "metadata": {},
     "output_type": "execute_result"
    }
   ],
   "source": [
    "predictions"
   ]
  },
  {
   "cell_type": "code",
   "execution_count": 30,
   "id": "401b0c8d",
   "metadata": {},
   "outputs": [
    {
     "data": {
      "text/plain": [
       "0.5597551215074443"
      ]
     },
     "execution_count": 30,
     "metadata": {},
     "output_type": "execute_result"
    }
   ],
   "source": [
    "apbd(final_prio)"
   ]
  },
  {
   "cell_type": "code",
   "execution_count": 31,
   "id": "c589ef56",
   "metadata": {},
   "outputs": [
    {
     "data": {
      "image/png": "[encoded data removed]",
      "text/plain": [
       "<Figure size 432x288 with 1 Axes>"
      ]
     },
     "metadata": {
      "needs_background": "light"
     },
     "output_type": "display_data"
    }
   ],
   "source": [
    "plot_true_bugs(final_prio).show()"
   ]
  },
  {
   "cell_type": "markdown",
   "id": "69126b90",
   "metadata": {},
   "source": [
    "# Ridge Classifier CV"
   ]
  },
  {
   "cell_type": "code",
   "execution_count": 32,
   "id": "962aa0b5",
   "metadata": {},
   "outputs": [
    {
     "data": {
      "text/plain": [
       "RidgeClassifierCV(alphas=array([0.1, 0.5, 1. ]))"
      ]
     },
     "execution_count": 32,
     "metadata": {},
     "output_type": "execute_result"
    },
    {
     "data": {
      "text/plain": [
       "0.9312702878164899"
      ]
     },
     "execution_count": 32,
     "metadata": {},
     "output_type": "execute_result"
    },
    {
     "data": {
      "text/plain": [
       "0.7449405717956955"
      ]
     },
     "execution_count": 32,
     "metadata": {},
     "output_type": "execute_result"
    },
    {
     "data": {
      "text/plain": [
       "0.6287960954446855"
      ]
     },
     "execution_count": 32,
     "metadata": {},
     "output_type": "execute_result"
    }
   ],
   "source": [
    "from sklearn.linear_model import RidgeClassifierCV\n",
    "ridge_classifier_cv_model = RidgeClassifierCV(alphas=[0.1,0.5,1])\n",
    "ridge_classifier_cv_model.fit(x_train, y_train)\n",
    "\n",
    "predictions = ridge_classifier_cv_model.predict(x_test)\n",
    "\n",
    "score = accuracy_score(y_test, predictions)\n",
    "f1 = f1_score(y_test, predictions)\n",
    "recall = recall_score(y_test, predictions)\n",
    "\n",
    "final_prio = prio(predictions, y_test)\n",
    "\n",
    "score\n",
    "f1\n",
    "recall"
   ]
  },
  {
   "cell_type": "code",
   "execution_count": 33,
   "id": "a3cd815b",
   "metadata": {},
   "outputs": [
    {
     "data": {
      "text/plain": [
       "array([False, False, False, ..., False, False, False])"
      ]
     },
     "execution_count": 33,
     "metadata": {},
     "output_type": "execute_result"
    }
   ],
   "source": [
    "predictions"
   ]
  },
  {
   "cell_type": "code",
   "execution_count": 34,
   "id": "c02cea9f",
   "metadata": {},
   "outputs": [
    {
     "data": {
      "text/plain": [
       "0.7629829585862147"
      ]
     },
     "execution_count": 34,
     "metadata": {},
     "output_type": "execute_result"
    }
   ],
   "source": [
    "apbd(final_prio)"
   ]
  },
  {
   "cell_type": "code",
   "execution_count": 35,
   "id": "f5688b42",
   "metadata": {},
   "outputs": [
    {
     "data": {
      "image/png": "[encoded data removed]",
      "text/plain": [
       "<Figure size 432x288 with 1 Axes>"
      ]
     },
     "metadata": {
      "needs_background": "light"
     },
     "output_type": "display_data"
    }
   ],
   "source": [
    "plot_true_bugs(final_prio).show()"
   ]
  },
  {
   "cell_type": "markdown",
   "id": "eca5b2da",
   "metadata": {},
   "source": [
    "# SGDClassifier"
   ]
  },
  {
   "cell_type": "code",
   "execution_count": 36,
   "id": "0802695a",
   "metadata": {},
   "outputs": [
    {
     "data": {
      "text/plain": [
       "SGDClassifier()"
      ]
     },
     "execution_count": 36,
     "metadata": {},
     "output_type": "execute_result"
    },
    {
     "data": {
      "text/plain": [
       "0.9132655269422203"
      ]
     },
     "execution_count": 36,
     "metadata": {},
     "output_type": "execute_result"
    },
    {
     "data": {
      "text/plain": [
       "0.7013412816691504"
      ]
     },
     "execution_count": 36,
     "metadata": {},
     "output_type": "execute_result"
    },
    {
     "data": {
      "text/plain": [
       "0.6380151843817787"
      ]
     },
     "execution_count": 36,
     "metadata": {},
     "output_type": "execute_result"
    }
   ],
   "source": [
    "from sklearn.linear_model import SGDClassifier\n",
    "sgd_classifier_model = SGDClassifier()\n",
    "sgd_classifier_model.fit(x_train, y_train)\n",
    "\n",
    "predictions = sgd_classifier_model.predict(x_test)\n",
    "\n",
    "score = accuracy_score(y_test, predictions)\n",
    "f1 = f1_score(y_test, predictions)\n",
    "recall = recall_score(y_test, predictions)\n",
    "\n",
    "final_prio = prio(predictions, y_test)\n",
    "\n",
    "score\n",
    "f1\n",
    "recall"
   ]
  },
  {
   "cell_type": "code",
   "execution_count": 37,
   "id": "044f21e7",
   "metadata": {},
   "outputs": [
    {
     "data": {
      "text/plain": [
       "array([False, False, False, ..., False, False, False])"
      ]
     },
     "execution_count": 37,
     "metadata": {},
     "output_type": "execute_result"
    }
   ],
   "source": [
    "predictions"
   ]
  },
  {
   "cell_type": "code",
   "execution_count": 38,
   "id": "86aaf1bb",
   "metadata": {},
   "outputs": [
    {
     "data": {
      "text/plain": [
       "0.7580952935316984"
      ]
     },
     "execution_count": 38,
     "metadata": {},
     "output_type": "execute_result"
    }
   ],
   "source": [
    "apbd(final_prio)"
   ]
  },
  {
   "cell_type": "code",
   "execution_count": 39,
   "id": "d17fe50f",
   "metadata": {},
   "outputs": [
    {
     "data": {
      "image/png": "[encoded data removed]",
      "text/plain": [
       "<Figure size 432x288 with 1 Axes>"
      ]
     },
     "metadata": {
      "needs_background": "light"
     },
     "output_type": "display_data"
    }
   ],
   "source": [
    "plot_true_bugs(final_prio).show()"
   ]
  },
  {
   "cell_type": "markdown",
   "id": "05b77886",
   "metadata": {},
   "source": [
    "#  KNeighboors Classifier"
   ]
  },
  {
   "cell_type": "code",
   "execution_count": 40,
   "id": "feb777ac",
   "metadata": {},
   "outputs": [
    {
     "data": {
      "text/plain": [
       "KNeighborsClassifier()"
      ]
     },
     "execution_count": 40,
     "metadata": {},
     "output_type": "execute_result"
    },
    {
     "data": {
      "text/plain": [
       "0.9922527591430427"
      ]
     },
     "execution_count": 40,
     "metadata": {},
     "output_type": "execute_result"
    },
    {
     "data": {
      "text/plain": [
       "0.9755497882802896"
      ]
     },
     "execution_count": 40,
     "metadata": {},
     "output_type": "execute_result"
    },
    {
     "data": {
      "text/plain": [
       "0.9682754880694143"
      ]
     },
     "execution_count": 40,
     "metadata": {},
     "output_type": "execute_result"
    }
   ],
   "source": [
    "from sklearn.neighbors import KNeighborsClassifier\n",
    "k_neighboors_classifier_model = KNeighborsClassifier(n_neighbors=5)\n",
    "k_neighboors_classifier_model.fit(x_train, y_train)\n",
    "\n",
    "predictions = k_neighboors_classifier_model.predict(x_test)\n",
    "\n",
    "score = accuracy_score(y_test, predictions)\n",
    "f1 = f1_score(y_test, predictions)\n",
    "recall = recall_score(y_test, predictions)\n",
    "\n",
    "final_prio = prio(predictions, y_test)\n",
    "\n",
    "score\n",
    "f1\n",
    "recall"
   ]
  },
  {
   "cell_type": "code",
   "execution_count": 41,
   "id": "e423826f",
   "metadata": {},
   "outputs": [
    {
     "data": {
      "text/plain": [
       "array([False, False, False, ..., False, False,  True])"
      ]
     },
     "execution_count": 41,
     "metadata": {},
     "output_type": "execute_result"
    }
   ],
   "source": [
    "predictions"
   ]
  },
  {
   "cell_type": "code",
   "execution_count": 42,
   "id": "10d6e2f6",
   "metadata": {},
   "outputs": [
    {
     "data": {
      "text/plain": [
       "5170     False\n",
       "16682    False\n",
       "58744    False\n",
       "33706    False\n",
       "2101     False\n",
       "         ...  \n",
       "65180    False\n",
       "12686    False\n",
       "45947    False\n",
       "50872    False\n",
       "53771     True\n",
       "Name: Value, Length: 23105, dtype: bool"
      ]
     },
     "execution_count": 42,
     "metadata": {},
     "output_type": "execute_result"
    }
   ],
   "source": [
    "y_test"
   ]
  },
  {
   "cell_type": "code",
   "execution_count": 43,
   "id": "2605c428",
   "metadata": {},
   "outputs": [
    {
     "data": {
      "text/plain": [
       "0.9055125474057177"
      ]
     },
     "execution_count": 43,
     "metadata": {},
     "output_type": "execute_result"
    }
   ],
   "source": [
    "apbd(final_prio)"
   ]
  },
  {
   "cell_type": "code",
   "execution_count": 44,
   "id": "7df2b596",
   "metadata": {},
   "outputs": [
    {
     "data": {
      "image/png": "[encoded data removed]",
      "text/plain": [
       "<Figure size 432x288 with 1 Axes>"
      ]
     },
     "metadata": {
      "needs_background": "light"
     },
     "output_type": "display_data"
    }
   ],
   "source": [
    "plot_true_bugs(final_prio).show()"
   ]
  },
  {
   "cell_type": "markdown",
   "id": "6cef10d6",
   "metadata": {},
   "source": [
    "# KNeighboors Regressor"
   ]
  },
  {
   "cell_type": "code",
   "execution_count": 45,
   "id": "e706f4f0",
   "metadata": {},
   "outputs": [
    {
     "data": {
      "text/plain": [
       "KNeighborsRegressor()"
      ]
     },
     "execution_count": 45,
     "metadata": {},
     "output_type": "execute_result"
    },
    {
     "data": {
      "text/plain": [
       "0.9922527591430427"
      ]
     },
     "execution_count": 45,
     "metadata": {},
     "output_type": "execute_result"
    },
    {
     "data": {
      "text/plain": [
       "0.9755497882802896"
      ]
     },
     "execution_count": 45,
     "metadata": {},
     "output_type": "execute_result"
    },
    {
     "data": {
      "text/plain": [
       "0.9682754880694143"
      ]
     },
     "execution_count": 45,
     "metadata": {},
     "output_type": "execute_result"
    }
   ],
   "source": [
    "from sklearn.neighbors import KNeighborsRegressor\n",
    "k_neighboors_regressor_model = KNeighborsRegressor(n_neighbors=5)\n",
    "k_neighboors_regressor_model.fit(x_train, y_train)\n",
    "\n",
    "predictions = k_neighboors_regressor_model.predict(x_test)\n",
    "final_predictions = []\n",
    "\n",
    "for p in predictions:\n",
    "    final_p = False\n",
    "    if (p > 0.5):\n",
    "        final_p = True\n",
    "    final_predictions.append(final_p)\n",
    "    \n",
    "score = accuracy_score(y_test, final_predictions)\n",
    "f1 = f1_score(y_test, final_predictions)\n",
    "recall = recall_score(y_test, final_predictions)\n",
    "\n",
    "final_prio = prio(predictions, y_test)\n",
    "\n",
    "score\n",
    "f1\n",
    "recall"
   ]
  },
  {
   "cell_type": "code",
   "execution_count": 46,
   "id": "5933eb82",
   "metadata": {},
   "outputs": [
    {
     "data": {
      "text/plain": [
       "0.9058715023980404"
      ]
     },
     "execution_count": 46,
     "metadata": {},
     "output_type": "execute_result"
    }
   ],
   "source": [
    "apbd(final_prio)"
   ]
  },
  {
   "cell_type": "code",
   "execution_count": 47,
   "id": "4b2e84ab",
   "metadata": {},
   "outputs": [
    {
     "data": {
      "image/png": "[encoded data removed]",
      "text/plain": [
       "<Figure size 432x288 with 1 Axes>"
      ]
     },
     "metadata": {
      "needs_background": "light"
     },
     "output_type": "display_data"
    }
   ],
   "source": [
    "plot_true_bugs(final_prio).show()"
   ]
  },
  {
   "cell_type": "markdown",
   "id": "fad4c72a",
   "metadata": {},
   "source": [
    "# Linear Regressor"
   ]
  },
  {
   "cell_type": "code",
   "execution_count": 48,
   "id": "5825f9ea",
   "metadata": {},
   "outputs": [
    {
     "data": {
      "text/plain": [
       "LinearRegression()"
      ]
     },
     "execution_count": 48,
     "metadata": {},
     "output_type": "execute_result"
    },
    {
     "data": {
      "text/plain": [
       "0.9312702878164899"
      ]
     },
     "execution_count": 48,
     "metadata": {},
     "output_type": "execute_result"
    },
    {
     "data": {
      "text/plain": [
       "0.7449405717956955"
      ]
     },
     "execution_count": 48,
     "metadata": {},
     "output_type": "execute_result"
    },
    {
     "data": {
      "text/plain": [
       "0.6287960954446855"
      ]
     },
     "execution_count": 48,
     "metadata": {},
     "output_type": "execute_result"
    }
   ],
   "source": [
    "from sklearn.linear_model import LinearRegression\n",
    "linear_regressor_model = LinearRegression()\n",
    "linear_regressor_model.fit(x_train, y_train)\n",
    "\n",
    "predictions = linear_regressor_model.predict(x_test)\n",
    "final_predictions = []\n",
    "\n",
    "for p in predictions:\n",
    "    final_p = False\n",
    "    if (p > 0.5):\n",
    "        final_p = True\n",
    "    final_predictions.append(final_p)\n",
    "    \n",
    "score = accuracy_score(y_test, final_predictions)\n",
    "f1 = f1_score(y_test, final_predictions)\n",
    "recall = recall_score(y_test, final_predictions)\n",
    "\n",
    "final_prio = prio(predictions, y_test)\n",
    "\n",
    "score\n",
    "f1\n",
    "recall"
   ]
  },
  {
   "cell_type": "code",
   "execution_count": 49,
   "id": "887e36c4",
   "metadata": {},
   "outputs": [
    {
     "data": {
      "text/plain": [
       "0.8702236230807109"
      ]
     },
     "execution_count": 49,
     "metadata": {},
     "output_type": "execute_result"
    }
   ],
   "source": [
    "apbd(final_prio)"
   ]
  },
  {
   "cell_type": "code",
   "execution_count": 50,
   "id": "fb466801",
   "metadata": {},
   "outputs": [
    {
     "data": {
      "image/png": "[encoded data removed]",
      "text/plain": [
       "<Figure size 432x288 with 1 Axes>"
      ]
     },
     "metadata": {
      "needs_background": "light"
     },
     "output_type": "display_data"
    }
   ],
   "source": [
    "plot_true_bugs(final_prio).show()"
   ]
  },
  {
   "cell_type": "markdown",
   "id": "460576b4",
   "metadata": {},
   "source": [
    "# SGD Regressor"
   ]
  },
  {
   "cell_type": "code",
   "execution_count": 51,
   "id": "c08284e8",
   "metadata": {},
   "outputs": [
    {
     "data": {
      "text/plain": [
       "SGDRegressor()"
      ]
     },
     "execution_count": 51,
     "metadata": {},
     "output_type": "execute_result"
    },
    {
     "data": {
      "text/plain": [
       "0.9208829257736421"
      ]
     },
     "execution_count": 51,
     "metadata": {},
     "output_type": "execute_result"
    },
    {
     "data": {
      "text/plain": [
       "0.7202326293235385"
      ]
     },
     "execution_count": 51,
     "metadata": {},
     "output_type": "execute_result"
    },
    {
     "data": {
      "text/plain": [
       "0.6380151843817787"
      ]
     },
     "execution_count": 51,
     "metadata": {},
     "output_type": "execute_result"
    }
   ],
   "source": [
    "from sklearn.linear_model import SGDRegressor\n",
    "sgd_regressor_model = SGDRegressor()\n",
    "sgd_regressor_model.fit(x_train, y_train)\n",
    "\n",
    "predictions = sgd_regressor_model.predict(x_test)\n",
    "final_predictions = []\n",
    "\n",
    "for p in predictions:\n",
    "    final_p = False\n",
    "    if (p > 0.5):\n",
    "        final_p = True\n",
    "    final_predictions.append(final_p)\n",
    "    \n",
    "score = accuracy_score(y_test, final_predictions)\n",
    "f1 = f1_score(y_test, final_predictions)\n",
    "recall = recall_score(y_test, final_predictions)\n",
    "\n",
    "final_prio = prio(predictions, y_test)\n",
    "\n",
    "score\n",
    "f1\n",
    "recall"
   ]
  },
  {
   "cell_type": "code",
   "execution_count": 52,
   "id": "01673a37",
   "metadata": {},
   "outputs": [
    {
     "data": {
      "text/plain": [
       "0.8563590554485534"
      ]
     },
     "execution_count": 52,
     "metadata": {},
     "output_type": "execute_result"
    }
   ],
   "source": [
    "apbd(final_prio)"
   ]
  },
  {
   "cell_type": "code",
   "execution_count": 53,
   "id": "77262640",
   "metadata": {},
   "outputs": [
    {
     "data": {
      "image/png": "[encoded data removed]",
      "text/plain": [
       "<Figure size 432x288 with 1 Axes>"
      ]
     },
     "metadata": {
      "needs_background": "light"
     },
     "output_type": "display_data"
    }
   ],
   "source": [
    "plot_true_bugs(final_prio).show()"
   ]
  },
  {
   "cell_type": "markdown",
   "id": "d45ac6e6",
   "metadata": {},
   "source": [
    "# Ridge CV"
   ]
  },
  {
   "cell_type": "code",
   "execution_count": 54,
   "id": "c53ba505",
   "metadata": {},
   "outputs": [
    {
     "data": {
      "text/plain": [
       "RidgeCV(alphas=array([0.001, 0.01 , 0.1  , 1.   ]))"
      ]
     },
     "execution_count": 54,
     "metadata": {},
     "output_type": "execute_result"
    },
    {
     "data": {
      "text/plain": [
       "0.9312702878164899"
      ]
     },
     "execution_count": 54,
     "metadata": {},
     "output_type": "execute_result"
    },
    {
     "data": {
      "text/plain": [
       "0.7449405717956955"
      ]
     },
     "execution_count": 54,
     "metadata": {},
     "output_type": "execute_result"
    },
    {
     "data": {
      "text/plain": [
       "0.6287960954446855"
      ]
     },
     "execution_count": 54,
     "metadata": {},
     "output_type": "execute_result"
    }
   ],
   "source": [
    "from sklearn.linear_model import RidgeCV\n",
    "ridge_cv_model = RidgeCV(alphas=[1e-3, 1e-2, 1e-1, 1])\n",
    "ridge_cv_model.fit(x_train, y_train)\n",
    "\n",
    "predictions = ridge_cv_model.predict(x_test)\n",
    "final_predictions = []\n",
    "\n",
    "for p in predictions:\n",
    "    final_p = False\n",
    "    if (p > 0.5):\n",
    "        final_p = True\n",
    "    final_predictions.append(final_p)\n",
    "    \n",
    "score = accuracy_score(y_test, final_predictions)\n",
    "f1 = f1_score(y_test, final_predictions)\n",
    "recall = recall_score(y_test, final_predictions)\n",
    "\n",
    "final_prio = prio(predictions, y_test)\n",
    "\n",
    "score\n",
    "f1\n",
    "recall"
   ]
  },
  {
   "cell_type": "code",
   "execution_count": 55,
   "id": "bbde8c96",
   "metadata": {},
   "outputs": [
    {
     "data": {
      "text/plain": [
       "0.8702082495220114"
      ]
     },
     "execution_count": 55,
     "metadata": {},
     "output_type": "execute_result"
    }
   ],
   "source": [
    "apbd(final_prio)"
   ]
  },
  {
   "cell_type": "code",
   "execution_count": 56,
   "id": "c2f7f20e",
   "metadata": {},
   "outputs": [
    {
     "data": {
      "image/png": "[encoded data removed]",
      "text/plain": [
       "<Figure size 432x288 with 1 Axes>"
      ]
     },
     "metadata": {
      "needs_background": "light"
     },
     "output_type": "display_data"
    }
   ],
   "source": [
    "plot_true_bugs(final_prio).show()"
   ]
  },
  {
   "cell_type": "markdown",
   "id": "a6e7005c",
   "metadata": {},
   "source": [
    "#  ARDRegression"
   ]
  },
  {
   "cell_type": "code",
   "execution_count": 57,
   "id": "aaa9eb3f",
   "metadata": {},
   "outputs": [
    {
     "data": {
      "text/plain": [
       "ARDRegression()"
      ]
     },
     "execution_count": 57,
     "metadata": {},
     "output_type": "execute_result"
    },
    {
     "data": {
      "text/plain": [
       "0.9328716727980957"
      ]
     },
     "execution_count": 57,
     "metadata": {},
     "output_type": "execute_result"
    },
    {
     "data": {
      "text/plain": [
       "0.7338252960356959"
      ]
     },
     "execution_count": 57,
     "metadata": {},
     "output_type": "execute_result"
    },
    {
     "data": {
      "text/plain": [
       "0.5797180043383948"
      ]
     },
     "execution_count": 57,
     "metadata": {},
     "output_type": "execute_result"
    }
   ],
   "source": [
    "from sklearn.linear_model import ARDRegression\n",
    "ard_regression_model = ARDRegression()\n",
    "ard_regression_model.fit(x_train, y_train)\n",
    "\n",
    "predictions = ard_regression_model.predict(x_test)\n",
    "final_predictions = []\n",
    "\n",
    "for p in predictions:\n",
    "    final_p = False\n",
    "    if (p > 0.5):\n",
    "        final_p = True\n",
    "    final_predictions.append(final_p)\n",
    "\n",
    "score = accuracy_score(y_test, final_predictions)\n",
    "f1 = f1_score(y_test, final_predictions)\n",
    "recall = recall_score(y_test, final_predictions)\n",
    "\n",
    "final_prio = prio(predictions, y_test)\n",
    "\n",
    "score\n",
    "f1\n",
    "recall"
   ]
  },
  {
   "cell_type": "code",
   "execution_count": 58,
   "id": "c845ede2",
   "metadata": {},
   "outputs": [
    {
     "data": {
      "text/plain": [
       "array([ 0.04223354,  0.40913995,  0.40913995, ...,  0.46203714,\n",
       "       -0.06356082,  0.35624277])"
      ]
     },
     "execution_count": 58,
     "metadata": {},
     "output_type": "execute_result"
    }
   ],
   "source": [
    "predictions"
   ]
  },
  {
   "cell_type": "code",
   "execution_count": 59,
   "id": "74ddf16e",
   "metadata": {
    "scrolled": true
   },
   "outputs": [
    {
     "data": {
      "text/plain": [
       "5170     False\n",
       "16682    False\n",
       "58744    False\n",
       "33706    False\n",
       "2101     False\n",
       "         ...  \n",
       "65180    False\n",
       "12686    False\n",
       "45947    False\n",
       "50872    False\n",
       "53771     True\n",
       "Name: Value, Length: 23105, dtype: bool"
      ]
     },
     "execution_count": 59,
     "metadata": {},
     "output_type": "execute_result"
    }
   ],
   "source": [
    "y_test"
   ]
  },
  {
   "cell_type": "code",
   "execution_count": 60,
   "id": "c70ba2b7",
   "metadata": {},
   "outputs": [
    {
     "data": {
      "text/plain": [
       "0.8663412948808161"
      ]
     },
     "execution_count": 60,
     "metadata": {},
     "output_type": "execute_result"
    }
   ],
   "source": [
    "apbd(final_prio)"
   ]
  },
  {
   "cell_type": "code",
   "execution_count": 61,
   "id": "fb8b555e",
   "metadata": {},
   "outputs": [
    {
     "data": {
      "image/png": "[encoded data removed]",
      "text/plain": [
       "<Figure size 432x288 with 1 Axes>"
      ]
     },
     "metadata": {
      "needs_background": "light"
     },
     "output_type": "display_data"
    }
   ],
   "source": [
    "plot_true_bugs(final_prio).show()"
   ]
  },
  {
   "cell_type": "markdown",
   "id": "7f86b789",
   "metadata": {},
   "source": [
    "#  BayesianRidge"
   ]
  },
  {
   "cell_type": "code",
   "execution_count": 62,
   "id": "3dd9ff9b",
   "metadata": {},
   "outputs": [
    {
     "data": {
      "text/plain": [
       "BayesianRidge()"
      ]
     },
     "execution_count": 62,
     "metadata": {},
     "output_type": "execute_result"
    },
    {
     "data": {
      "text/plain": [
       "0.9312702878164899"
      ]
     },
     "execution_count": 62,
     "metadata": {},
     "output_type": "execute_result"
    },
    {
     "data": {
      "text/plain": [
       "0.7449405717956955"
      ]
     },
     "execution_count": 62,
     "metadata": {},
     "output_type": "execute_result"
    },
    {
     "data": {
      "text/plain": [
       "0.6287960954446855"
      ]
     },
     "execution_count": 62,
     "metadata": {},
     "output_type": "execute_result"
    }
   ],
   "source": [
    "from sklearn.linear_model import BayesianRidge\n",
    "bayesian_ridge_model = BayesianRidge()\n",
    "bayesian_ridge_model.fit(x_train, y_train)\n",
    "\n",
    "predictions = bayesian_ridge_model.predict(x_test)\n",
    "final_predictions = []\n",
    "\n",
    "for p in predictions:\n",
    "    final_p = False\n",
    "    if (p > 0.5):\n",
    "        final_p = True\n",
    "    final_predictions.append(final_p)\n",
    "\n",
    "score = accuracy_score(y_test, final_predictions)\n",
    "f1 = f1_score(y_test, final_predictions)\n",
    "recall = recall_score(y_test, final_predictions)\n",
    "\n",
    "final_prio = prio(predictions, y_test)\n",
    "\n",
    "score\n",
    "f1\n",
    "recall"
   ]
  },
  {
   "cell_type": "code",
   "execution_count": 63,
   "id": "080d654f",
   "metadata": {},
   "outputs": [
    {
     "data": {
      "text/plain": [
       "array([ 0.04095635,  0.42388492,  0.42388492, ...,  0.38250856,\n",
       "       -0.06047472,  0.29782147])"
      ]
     },
     "execution_count": 63,
     "metadata": {},
     "output_type": "execute_result"
    }
   ],
   "source": [
    "predictions"
   ]
  },
  {
   "cell_type": "code",
   "execution_count": 64,
   "id": "30d587b6",
   "metadata": {},
   "outputs": [
    {
     "data": {
      "text/plain": [
       "5170     False\n",
       "16682    False\n",
       "58744    False\n",
       "33706    False\n",
       "2101     False\n",
       "         ...  \n",
       "65180    False\n",
       "12686    False\n",
       "45947    False\n",
       "50872    False\n",
       "53771     True\n",
       "Name: Value, Length: 23105, dtype: bool"
      ]
     },
     "execution_count": 64,
     "metadata": {},
     "output_type": "execute_result"
    }
   ],
   "source": [
    "y_test"
   ]
  },
  {
   "cell_type": "code",
   "execution_count": 65,
   "id": "1243407f",
   "metadata": {
    "scrolled": true
   },
   "outputs": [
    {
     "data": {
      "text/plain": [
       "0.8702016189413508"
      ]
     },
     "execution_count": 65,
     "metadata": {},
     "output_type": "execute_result"
    }
   ],
   "source": [
    "apbd(final_prio)"
   ]
  },
  {
   "cell_type": "code",
   "execution_count": 66,
   "id": "33a58710",
   "metadata": {},
   "outputs": [
    {
     "data": {
      "image/png": "[encoded data removed]",
      "text/plain": [
       "<Figure size 432x288 with 1 Axes>"
      ]
     },
     "metadata": {
      "needs_background": "light"
     },
     "output_type": "display_data"
    }
   ],
   "source": [
    "plot_true_bugs(final_prio).show()"
   ]
  },
  {
   "cell_type": "markdown",
   "id": "70b4ca68",
   "metadata": {},
   "source": [
    "#  AdaBoostClassifier"
   ]
  },
  {
   "cell_type": "code",
   "execution_count": 67,
   "id": "b584a3e3",
   "metadata": {},
   "outputs": [
    {
     "data": {
      "text/plain": [
       "AdaBoostClassifier()"
      ]
     },
     "execution_count": 67,
     "metadata": {},
     "output_type": "execute_result"
    },
    {
     "data": {
      "text/plain": [
       "0.9896991993075092"
      ]
     },
     "execution_count": 67,
     "metadata": {},
     "output_type": "execute_result"
    },
    {
     "data": {
      "text/plain": [
       "0.9676630434782609"
      ]
     },
     "execution_count": 67,
     "metadata": {},
     "output_type": "execute_result"
    },
    {
     "data": {
      "text/plain": [
       "0.9655639913232104"
      ]
     },
     "execution_count": 67,
     "metadata": {},
     "output_type": "execute_result"
    }
   ],
   "source": [
    "from sklearn.ensemble import AdaBoostClassifier\n",
    "ada_boost_classifier_model = AdaBoostClassifier()\n",
    "ada_boost_classifier_model.fit(x_train, y_train)\n",
    "\n",
    "predictions = ada_boost_classifier_model.predict(x_test)\n",
    "\n",
    "score = accuracy_score(y_test, predictions)\n",
    "f1 = f1_score(y_test, predictions)\n",
    "recall = recall_score(y_test, predictions)\n",
    "\n",
    "final_prio = prio(predictions, y_test)\n",
    "\n",
    "score\n",
    "f1\n",
    "recall"
   ]
  },
  {
   "cell_type": "code",
   "execution_count": 68,
   "id": "a61cbff9",
   "metadata": {},
   "outputs": [
    {
     "data": {
      "text/plain": [
       "array([False, False, False, ..., False, False,  True])"
      ]
     },
     "execution_count": 68,
     "metadata": {},
     "output_type": "execute_result"
    }
   ],
   "source": [
    "predictions"
   ]
  },
  {
   "cell_type": "code",
   "execution_count": 69,
   "id": "ebcae564",
   "metadata": {},
   "outputs": [
    {
     "data": {
      "text/plain": [
       "5170     False\n",
       "16682    False\n",
       "58744    False\n",
       "33706    False\n",
       "2101     False\n",
       "         ...  \n",
       "65180    False\n",
       "12686    False\n",
       "45947    False\n",
       "50872    False\n",
       "53771     True\n",
       "Name: Value, Length: 23105, dtype: bool"
      ]
     },
     "execution_count": 69,
     "metadata": {},
     "output_type": "execute_result"
    }
   ],
   "source": [
    "y_test"
   ]
  },
  {
   "cell_type": "code",
   "execution_count": 70,
   "id": "2c46caa3",
   "metadata": {},
   "outputs": [
    {
     "data": {
      "text/plain": [
       "0.9030672479358357"
      ]
     },
     "execution_count": 70,
     "metadata": {},
     "output_type": "execute_result"
    }
   ],
   "source": [
    "apbd(final_prio)"
   ]
  },
  {
   "cell_type": "code",
   "execution_count": 71,
   "id": "7172d75a",
   "metadata": {},
   "outputs": [
    {
     "data": {
      "image/png": "[encoded data removed]",
      "text/plain": [
       "<Figure size 432x288 with 1 Axes>"
      ]
     },
     "metadata": {
      "needs_background": "light"
     },
     "output_type": "display_data"
    }
   ],
   "source": [
    "plot_true_bugs(final_prio).show()"
   ]
  },
  {
   "cell_type": "markdown",
   "id": "87e946f7",
   "metadata": {},
   "source": [
    "#  ExtraTreesClassifier"
   ]
  },
  {
   "cell_type": "code",
   "execution_count": 72,
   "id": "b30f2ef1",
   "metadata": {},
   "outputs": [
    {
     "data": {
      "text/plain": [
       "ExtraTreesClassifier()"
      ]
     },
     "execution_count": 72,
     "metadata": {},
     "output_type": "execute_result"
    },
    {
     "data": {
      "text/plain": [
       "0.9924258818437568"
      ]
     },
     "execution_count": 72,
     "metadata": {},
     "output_type": "execute_result"
    },
    {
     "data": {
      "text/plain": [
       "0.976083094164275"
      ]
     },
     "execution_count": 72,
     "metadata": {},
     "output_type": "execute_result"
    },
    {
     "data": {
      "text/plain": [
       "0.9682754880694143"
      ]
     },
     "execution_count": 72,
     "metadata": {},
     "output_type": "execute_result"
    }
   ],
   "source": [
    "from sklearn.ensemble import ExtraTreesClassifier\n",
    "extra_trees_classifier_model = ExtraTreesClassifier()\n",
    "extra_trees_classifier_model.fit(x_train, y_train)\n",
    "\n",
    "predictions = extra_trees_classifier_model.predict(x_test)\n",
    "\n",
    "score = accuracy_score(y_test, predictions)\n",
    "f1 = f1_score(y_test, predictions)\n",
    "recall = recall_score(y_test, predictions)\n",
    "\n",
    "final_prio = prio(predictions, y_test)\n",
    "\n",
    "score\n",
    "f1\n",
    "recall"
   ]
  },
  {
   "cell_type": "code",
   "execution_count": 73,
   "id": "6fc39d1d",
   "metadata": {},
   "outputs": [
    {
     "data": {
      "text/plain": [
       "array([False, False, False, ..., False, False,  True])"
      ]
     },
     "execution_count": 73,
     "metadata": {},
     "output_type": "execute_result"
    }
   ],
   "source": [
    "predictions"
   ]
  },
  {
   "cell_type": "code",
   "execution_count": 74,
   "id": "8c99bbe5",
   "metadata": {},
   "outputs": [
    {
     "data": {
      "text/plain": [
       "5170     False\n",
       "16682    False\n",
       "58744    False\n",
       "33706    False\n",
       "2101     False\n",
       "         ...  \n",
       "65180    False\n",
       "12686    False\n",
       "45947    False\n",
       "50872    False\n",
       "53771     True\n",
       "Name: Value, Length: 23105, dtype: bool"
      ]
     },
     "execution_count": 74,
     "metadata": {},
     "output_type": "execute_result"
    }
   ],
   "source": [
    "y_test"
   ]
  },
  {
   "cell_type": "code",
   "execution_count": 75,
   "id": "135ca17b",
   "metadata": {},
   "outputs": [
    {
     "data": {
      "text/plain": [
       "0.9056187423161545"
      ]
     },
     "execution_count": 75,
     "metadata": {},
     "output_type": "execute_result"
    }
   ],
   "source": [
    "apbd(final_prio)"
   ]
  },
  {
   "cell_type": "code",
   "execution_count": 76,
   "id": "e4d21905",
   "metadata": {},
   "outputs": [
    {
     "data": {
      "image/png": "[encoded data removed]",
      "text/plain": [
       "<Figure size 432x288 with 1 Axes>"
      ]
     },
     "metadata": {
      "needs_background": "light"
     },
     "output_type": "display_data"
    }
   ],
   "source": [
    "plot_true_bugs(final_prio).show()"
   ]
  },
  {
   "cell_type": "markdown",
   "id": "69819149",
   "metadata": {},
   "source": [
    "#  GradientBoostingClassifier"
   ]
  },
  {
   "cell_type": "code",
   "execution_count": 77,
   "id": "dae620dc",
   "metadata": {},
   "outputs": [
    {
     "data": {
      "text/plain": [
       "GradientBoostingClassifier()"
      ]
     },
     "execution_count": 77,
     "metadata": {},
     "output_type": "execute_result"
    },
    {
     "data": {
      "text/plain": [
       "0.9910841809132223"
      ]
     },
     "execution_count": 77,
     "metadata": {},
     "output_type": "execute_result"
    },
    {
     "data": {
      "text/plain": [
       "0.9719651605879149"
      ]
     },
     "execution_count": 77,
     "metadata": {},
     "output_type": "execute_result"
    },
    {
     "data": {
      "text/plain": [
       "0.9682754880694143"
      ]
     },
     "execution_count": 77,
     "metadata": {},
     "output_type": "execute_result"
    }
   ],
   "source": [
    "from sklearn.ensemble import GradientBoostingClassifier\n",
    "gradient_boosting_classifier_model = GradientBoostingClassifier()\n",
    "gradient_boosting_classifier_model.fit(x_train, y_train)\n",
    "\n",
    "predictions = gradient_boosting_classifier_model.predict(x_test)\n",
    "\n",
    "score = accuracy_score(y_test, predictions)\n",
    "f1 = f1_score(y_test, predictions)\n",
    "recall = recall_score(y_test, predictions)\n",
    "\n",
    "final_prio = prio(predictions, y_test)\n",
    "\n",
    "score\n",
    "f1\n",
    "recall"
   ]
  },
  {
   "cell_type": "code",
   "execution_count": 78,
   "id": "b4d01e2e",
   "metadata": {},
   "outputs": [
    {
     "data": {
      "text/plain": [
       "array([False, False, False, ..., False, False,  True])"
      ]
     },
     "execution_count": 78,
     "metadata": {},
     "output_type": "execute_result"
    }
   ],
   "source": [
    "predictions"
   ]
  },
  {
   "cell_type": "code",
   "execution_count": 79,
   "id": "aa6a098e",
   "metadata": {},
   "outputs": [
    {
     "data": {
      "text/plain": [
       "5170     False\n",
       "16682    False\n",
       "58744    False\n",
       "33706    False\n",
       "2101     False\n",
       "         ...  \n",
       "65180    False\n",
       "12686    False\n",
       "45947    False\n",
       "50872    False\n",
       "53771     True\n",
       "Name: Value, Length: 23105, dtype: bool"
      ]
     },
     "execution_count": 79,
     "metadata": {},
     "output_type": "execute_result"
    }
   ],
   "source": [
    "y_test"
   ]
  },
  {
   "cell_type": "code",
   "execution_count": 80,
   "id": "3cdc6816",
   "metadata": {},
   "outputs": [
    {
     "data": {
      "text/plain": [
       "0.9049700016101162"
      ]
     },
     "execution_count": 80,
     "metadata": {},
     "output_type": "execute_result"
    }
   ],
   "source": [
    "apbd(final_prio)"
   ]
  },
  {
   "cell_type": "code",
   "execution_count": 81,
   "id": "7274cf33",
   "metadata": {},
   "outputs": [
    {
     "data": {
      "image/png": "[encoded data removed]",
      "text/plain": [
       "<Figure size 432x288 with 1 Axes>"
      ]
     },
     "metadata": {
      "needs_background": "light"
     },
     "output_type": "display_data"
    }
   ],
   "source": [
    "plot_true_bugs(final_prio).show()"
   ]
  },
  {
   "cell_type": "markdown",
   "id": "8fa050e6",
   "metadata": {},
   "source": [
    "#  RandomForestClassifier"
   ]
  },
  {
   "cell_type": "code",
   "execution_count": 82,
   "id": "35a028ce",
   "metadata": {},
   "outputs": [
    {
     "data": {
      "text/plain": [
       "RandomForestClassifier()"
      ]
     },
     "execution_count": 82,
     "metadata": {},
     "output_type": "execute_result"
    },
    {
     "data": {
      "text/plain": [
       "0.9923826011685782"
      ]
     },
     "execution_count": 82,
     "metadata": {},
     "output_type": "execute_result"
    },
    {
     "data": {
      "text/plain": [
       "0.9759497130363487"
      ]
     },
     "execution_count": 82,
     "metadata": {},
     "output_type": "execute_result"
    },
    {
     "data": {
      "text/plain": [
       "0.9682754880694143"
      ]
     },
     "execution_count": 82,
     "metadata": {},
     "output_type": "execute_result"
    }
   ],
   "source": [
    "from sklearn.ensemble import RandomForestClassifier\n",
    "random_forest_classifier_model = RandomForestClassifier()\n",
    "random_forest_classifier_model.fit(x_train, y_train)\n",
    "\n",
    "predictions = random_forest_classifier_model.predict(x_test)\n",
    "\n",
    "score = accuracy_score(y_test, predictions)\n",
    "f1 = f1_score(y_test, predictions)\n",
    "recall = recall_score(y_test, predictions)\n",
    "\n",
    "final_prio = prio(predictions, y_test)\n",
    "\n",
    "score\n",
    "f1\n",
    "recall"
   ]
  },
  {
   "cell_type": "code",
   "execution_count": 83,
   "id": "278154e4",
   "metadata": {},
   "outputs": [
    {
     "data": {
      "text/plain": [
       "array([False, False, False, ..., False, False,  True])"
      ]
     },
     "execution_count": 83,
     "metadata": {},
     "output_type": "execute_result"
    }
   ],
   "source": [
    "predictions"
   ]
  },
  {
   "cell_type": "code",
   "execution_count": 84,
   "id": "afa79c1c",
   "metadata": {},
   "outputs": [
    {
     "data": {
      "text/plain": [
       "5170     False\n",
       "16682    False\n",
       "58744    False\n",
       "33706    False\n",
       "2101     False\n",
       "         ...  \n",
       "65180    False\n",
       "12686    False\n",
       "45947    False\n",
       "50872    False\n",
       "53771     True\n",
       "Name: Value, Length: 23105, dtype: bool"
      ]
     },
     "execution_count": 84,
     "metadata": {},
     "output_type": "execute_result"
    }
   ],
   "source": [
    "y_test"
   ]
  },
  {
   "cell_type": "code",
   "execution_count": 85,
   "id": "5cc93a0c",
   "metadata": {
    "scrolled": true
   },
   "outputs": [
    {
     "data": {
      "text/plain": [
       "0.9055702510607755"
      ]
     },
     "execution_count": 85,
     "metadata": {},
     "output_type": "execute_result"
    }
   ],
   "source": [
    "apbd(final_prio)"
   ]
  },
  {
   "cell_type": "code",
   "execution_count": 86,
   "id": "5803552f",
   "metadata": {},
   "outputs": [
    {
     "data": {
      "image/png": "[encoded data removed]",
      "text/plain": [
       "<Figure size 432x288 with 1 Axes>"
      ]
     },
     "metadata": {
      "needs_background": "light"
     },
     "output_type": "display_data"
    }
   ],
   "source": [
    "plot_true_bugs(final_prio).show()"
   ]
  },
  {
   "cell_type": "markdown",
   "id": "2c4f2bcb",
   "metadata": {},
   "source": [
    "#  HistGradientBoostingClassifier"
   ]
  },
  {
   "cell_type": "code",
   "execution_count": 87,
   "id": "f045cab3",
   "metadata": {},
   "outputs": [
    {
     "data": {
      "text/plain": [
       "HistGradientBoostingClassifier()"
      ]
     },
     "execution_count": 87,
     "metadata": {},
     "output_type": "execute_result"
    },
    {
     "data": {
      "text/plain": [
       "0.9924691625189352"
      ]
     },
     "execution_count": 87,
     "metadata": {},
     "output_type": "execute_result"
    },
    {
     "data": {
      "text/plain": [
       "0.9762165117550574"
      ]
     },
     "execution_count": 87,
     "metadata": {},
     "output_type": "execute_result"
    },
    {
     "data": {
      "text/plain": [
       "0.9682754880694143"
      ]
     },
     "execution_count": 87,
     "metadata": {},
     "output_type": "execute_result"
    }
   ],
   "source": [
    "from sklearn.ensemble import HistGradientBoostingClassifier\n",
    "hist_gradient_boosting_classifier_model = HistGradientBoostingClassifier()\n",
    "hist_gradient_boosting_classifier_model.fit(x_train, y_train)\n",
    "\n",
    "predictions = hist_gradient_boosting_classifier_model.predict(x_test)\n",
    "\n",
    "score = accuracy_score(y_test, predictions)\n",
    "f1 = f1_score(y_test, predictions)\n",
    "recall = recall_score(y_test, predictions)\n",
    "\n",
    "final_prio = prio(predictions, y_test)\n",
    "\n",
    "score\n",
    "f1\n",
    "recall"
   ]
  },
  {
   "cell_type": "code",
   "execution_count": 88,
   "id": "16371b16",
   "metadata": {},
   "outputs": [
    {
     "data": {
      "text/plain": [
       "array([False, False, False, ..., False, False,  True])"
      ]
     },
     "execution_count": 88,
     "metadata": {},
     "output_type": "execute_result"
    }
   ],
   "source": [
    "predictions"
   ]
  },
  {
   "cell_type": "code",
   "execution_count": 89,
   "id": "af6761c8",
   "metadata": {},
   "outputs": [
    {
     "data": {
      "text/plain": [
       "5170     False\n",
       "16682    False\n",
       "58744    False\n",
       "33706    False\n",
       "2101     False\n",
       "         ...  \n",
       "65180    False\n",
       "12686    False\n",
       "45947    False\n",
       "50872    False\n",
       "53771     True\n",
       "Name: Value, Length: 23105, dtype: bool"
      ]
     },
     "execution_count": 89,
     "metadata": {},
     "output_type": "execute_result"
    }
   ],
   "source": [
    "y_test"
   ]
  },
  {
   "cell_type": "code",
   "execution_count": 90,
   "id": "2ca03105",
   "metadata": {},
   "outputs": [
    {
     "data": {
      "text/plain": [
       "0.9056512497647023"
      ]
     },
     "execution_count": 90,
     "metadata": {},
     "output_type": "execute_result"
    }
   ],
   "source": [
    "apbd(final_prio)"
   ]
  },
  {
   "cell_type": "code",
   "execution_count": 91,
   "id": "e5f2220c",
   "metadata": {},
   "outputs": [
    {
     "data": {
      "image/png": "[encoded data removed]",
      "text/plain": [
       "<Figure size 432x288 with 1 Axes>"
      ]
     },
     "metadata": {
      "needs_background": "light"
     },
     "output_type": "display_data"
    }
   ],
   "source": [
    "plot_true_bugs(final_prio).show()"
   ]
  },
  {
   "cell_type": "markdown",
   "id": "d838eb7b",
   "metadata": {},
   "source": [
    "#  StackingClassifier"
   ]
  },
  {
   "cell_type": "code",
   "execution_count": 92,
   "id": "fb44ec63",
   "metadata": {},
   "outputs": [
    {
     "data": {
      "text/plain": [
       "StackingClassifier(estimators=[('decision_tree_classifier_model',\n",
       "                                DecisionTreeClassifier()),\n",
       "                               ('k_neighboors_classifier_model',\n",
       "                                KNeighborsClassifier()),\n",
       "                               ('ada_boost_classifier_model',\n",
       "                                AdaBoostClassifier()),\n",
       "                               ('extra_trees_classifier_model',\n",
       "                                ExtraTreesClassifier()),\n",
       "                               ('gradient_boosting_classifier_model',\n",
       "                                GradientBoostingClassifier()),\n",
       "                               ('random_forest_classifier_model',\n",
       "                                RandomForestClassifier()),\n",
       "                               ('hist_gradient_boosting_classifier_model',\n",
       "                                HistGradientBoostingClassifier())])"
      ]
     },
     "execution_count": 92,
     "metadata": {},
     "output_type": "execute_result"
    },
    {
     "data": {
      "text/plain": [
       "0.9924691625189352"
      ]
     },
     "execution_count": 92,
     "metadata": {},
     "output_type": "execute_result"
    },
    {
     "data": {
      "text/plain": [
       "0.9762165117550574"
      ]
     },
     "execution_count": 92,
     "metadata": {},
     "output_type": "execute_result"
    },
    {
     "data": {
      "text/plain": [
       "0.9682754880694143"
      ]
     },
     "execution_count": 92,
     "metadata": {},
     "output_type": "execute_result"
    }
   ],
   "source": [
    "from sklearn.ensemble import StackingClassifier\n",
    "\n",
    "estimators = [(\"decision_tree_classifier_model\", decision_tree_classifier_model),\n",
    "             (\"k_neighboors_classifier_model\", k_neighboors_classifier_model),\n",
    "              (\"ada_boost_classifier_model\", ada_boost_classifier_model),\n",
    "              (\"extra_trees_classifier_model\", extra_trees_classifier_model),\n",
    "              (\"gradient_boosting_classifier_model\", gradient_boosting_classifier_model),\n",
    "              (\"random_forest_classifier_model\", random_forest_classifier_model),\n",
    "              (\"hist_gradient_boosting_classifier_model\", hist_gradient_boosting_classifier_model)\n",
    "             ]\n",
    "\n",
    "stacking_classifier_model = StackingClassifier(estimators=estimators)\n",
    "stacking_classifier_model.fit(x_train, y_train)\n",
    "\n",
    "predictions = stacking_classifier_model.predict(x_test)\n",
    "\n",
    "score = accuracy_score(y_test, predictions)\n",
    "f1 = f1_score(y_test, predictions)\n",
    "recall = recall_score(y_test, predictions)\n",
    "\n",
    "final_prio = prio(predictions, y_test)\n",
    "\n",
    "score\n",
    "f1\n",
    "recall"
   ]
  },
  {
   "cell_type": "code",
   "execution_count": 93,
   "id": "2fd67b90",
   "metadata": {},
   "outputs": [
    {
     "data": {
      "text/plain": [
       "array([False, False, False, ..., False, False,  True])"
      ]
     },
     "execution_count": 93,
     "metadata": {},
     "output_type": "execute_result"
    }
   ],
   "source": [
    "predictions"
   ]
  },
  {
   "cell_type": "code",
   "execution_count": 94,
   "id": "2a425f2c",
   "metadata": {},
   "outputs": [
    {
     "data": {
      "text/plain": [
       "5170     False\n",
       "16682    False\n",
       "58744    False\n",
       "33706    False\n",
       "2101     False\n",
       "         ...  \n",
       "65180    False\n",
       "12686    False\n",
       "45947    False\n",
       "50872    False\n",
       "53771     True\n",
       "Name: Value, Length: 23105, dtype: bool"
      ]
     },
     "execution_count": 94,
     "metadata": {},
     "output_type": "execute_result"
    }
   ],
   "source": [
    "y_test"
   ]
  },
  {
   "cell_type": "code",
   "execution_count": 95,
   "id": "82ec406c",
   "metadata": {},
   "outputs": [
    {
     "data": {
      "text/plain": [
       "0.9056512497647023"
      ]
     },
     "execution_count": 95,
     "metadata": {},
     "output_type": "execute_result"
    }
   ],
   "source": [
    "apbd(final_prio)"
   ]
  },
  {
   "cell_type": "code",
   "execution_count": 96,
   "id": "d2c66f91",
   "metadata": {},
   "outputs": [
    {
     "data": {
      "image/png": "[encoded data removed]",
      "text/plain": [
       "<Figure size 432x288 with 1 Axes>"
      ]
     },
     "metadata": {
      "needs_background": "light"
     },
     "output_type": "display_data"
    }
   ],
   "source": [
    "plot_true_bugs(final_prio).show()"
   ]
  },
  {
   "cell_type": "markdown",
   "id": "bbc9ee99",
   "metadata": {},
   "source": [
    "#  RandomForestClassifier"
   ]
  },
  {
   "cell_type": "code",
   "execution_count": 97,
   "id": "c814d3ad",
   "metadata": {},
   "outputs": [
    {
     "data": {
      "text/plain": [
       "VotingClassifier(estimators=[('decision_tree_classifier_model',\n",
       "                              DecisionTreeClassifier()),\n",
       "                             ('k_neighboors_classifier_model',\n",
       "                              KNeighborsClassifier()),\n",
       "                             ('ada_boost_classifier_model',\n",
       "                              AdaBoostClassifier()),\n",
       "                             ('extra_trees_classifier_model',\n",
       "                              ExtraTreesClassifier()),\n",
       "                             ('gradient_boosting_classifier_model',\n",
       "                              GradientBoostingClassifier()),\n",
       "                             ('random_forest_classifier_model',\n",
       "                              RandomForestClassifier()),\n",
       "                             ('hist_gradient_boosting_classifier_model',\n",
       "                              HistGradientBoostingClassifier())])"
      ]
     },
     "execution_count": 97,
     "metadata": {},
     "output_type": "execute_result"
    },
    {
     "data": {
      "text/plain": [
       "0.9924258818437568"
      ]
     },
     "execution_count": 97,
     "metadata": {},
     "output_type": "execute_result"
    },
    {
     "data": {
      "text/plain": [
       "0.976083094164275"
      ]
     },
     "execution_count": 97,
     "metadata": {},
     "output_type": "execute_result"
    },
    {
     "data": {
      "text/plain": [
       "0.9682754880694143"
      ]
     },
     "execution_count": 97,
     "metadata": {},
     "output_type": "execute_result"
    }
   ],
   "source": [
    "from sklearn.ensemble import VotingClassifier\n",
    "\n",
    "estimators = [(\"decision_tree_classifier_model\", decision_tree_classifier_model),\n",
    "             (\"k_neighboors_classifier_model\", k_neighboors_classifier_model),\n",
    "              (\"ada_boost_classifier_model\", ada_boost_classifier_model),\n",
    "              (\"extra_trees_classifier_model\", extra_trees_classifier_model),\n",
    "              (\"gradient_boosting_classifier_model\", gradient_boosting_classifier_model),\n",
    "              (\"random_forest_classifier_model\", random_forest_classifier_model),\n",
    "              (\"hist_gradient_boosting_classifier_model\", hist_gradient_boosting_classifier_model)\n",
    "             ]\n",
    "\n",
    "voting_classifier_model = VotingClassifier(estimators=estimators)\n",
    "voting_classifier_model.fit(x_train, y_train)\n",
    "\n",
    "predictions = voting_classifier_model.predict(x_test)\n",
    "\n",
    "score = accuracy_score(y_test, predictions)\n",
    "f1 = f1_score(y_test, predictions)\n",
    "recall = recall_score(y_test, predictions)\n",
    "\n",
    "final_prio = prio(predictions, y_test)\n",
    "\n",
    "score\n",
    "f1\n",
    "recall"
   ]
  },
  {
   "cell_type": "code",
   "execution_count": 98,
   "id": "7ea29c8a",
   "metadata": {},
   "outputs": [
    {
     "data": {
      "text/plain": [
       "array([False, False, False, ..., False, False,  True])"
      ]
     },
     "execution_count": 98,
     "metadata": {},
     "output_type": "execute_result"
    }
   ],
   "source": [
    "predictions"
   ]
  },
  {
   "cell_type": "code",
   "execution_count": 99,
   "id": "22d36896",
   "metadata": {},
   "outputs": [
    {
     "data": {
      "text/plain": [
       "5170     False\n",
       "16682    False\n",
       "58744    False\n",
       "33706    False\n",
       "2101     False\n",
       "         ...  \n",
       "65180    False\n",
       "12686    False\n",
       "45947    False\n",
       "50872    False\n",
       "53771     True\n",
       "Name: Value, Length: 23105, dtype: bool"
      ]
     },
     "execution_count": 99,
     "metadata": {},
     "output_type": "execute_result"
    }
   ],
   "source": [
    "y_test"
   ]
  },
  {
   "cell_type": "code",
   "execution_count": 100,
   "id": "52d9d03d",
   "metadata": {},
   "outputs": [
    {
     "data": {
      "text/plain": [
       "0.9056187423161545"
      ]
     },
     "execution_count": 100,
     "metadata": {},
     "output_type": "execute_result"
    }
   ],
   "source": [
    "apbd(final_prio)"
   ]
  },
  {
   "cell_type": "code",
   "execution_count": 101,
   "id": "52f24792",
   "metadata": {},
   "outputs": [
    {
     "data": {
      "image/png": "[encoded data removed]",
      "text/plain": [
       "<Figure size 432x288 with 1 Axes>"
      ]
     },
     "metadata": {
      "needs_background": "light"
     },
     "output_type": "display_data"
    }
   ],
   "source": [
    "plot_true_bugs(final_prio).show()"
   ]
  }
 ],
 "metadata": {
  "kernelspec": {
   "display_name": "Python 3 (ipykernel)",
   "language": "python",
   "name": "python3"
  },
  "language_info": {
   "codemirror_mode": {
    "name": "ipython",
    "version": 3
   },
   "file_extension": ".py",
   "mimetype": "text/x-python",
   "name": "python",
   "nbconvert_exporter": "python",
   "pygments_lexer": "ipython3",
   "version": "3.8.10"
  }
 },
 "nbformat": 4,
 "nbformat_minor": 5
}
